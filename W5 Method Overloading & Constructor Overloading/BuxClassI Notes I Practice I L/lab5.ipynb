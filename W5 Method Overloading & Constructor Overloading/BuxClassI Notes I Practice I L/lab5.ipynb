{
  "cells": [
    {
      "cell_type": "code",
      "execution_count": null,
      "metadata": {
        "colab": {
          "base_uri": "https://localhost:8080/",
          "height": 287
        },
        "id": "X5JMBFIwIPwW",
        "outputId": "e95e986a-d7a3-4e68-fb3c-c615007b4d7e"
      },
      "outputs": [
        {
          "name": "stdout",
          "output_type": "stream",
          "text": [
            "Quiz 1 (out of 10): 02\n",
            "Quiz 2 (out of 10): 3\n",
            "Lab (out of 30): 4\n",
            "Mid (out of 20): 5\n",
            "Final (out of 30): 4\n"
          ]
        },
        {
          "ename": "AttributeError",
          "evalue": "ignored",
          "output_type": "error",
          "traceback": [
            "\u001b[0;31m---------------------------------------------------------------------------\u001b[0m",
            "\u001b[0;31mAttributeError\u001b[0m                            Traceback (most recent call last)",
            "\u001b[0;32m<ipython-input-7-5bfffdad8864>\u001b[0m in \u001b[0;36m<module>\u001b[0;34m()\u001b[0m\n\u001b[1;32m     13\u001b[0m \u001b[0mFinal\u001b[0m \u001b[0;34m=\u001b[0m \u001b[0mMarks\u001b[0m\u001b[0;34m(\u001b[0m\u001b[0mint\u001b[0m\u001b[0;34m(\u001b[0m\u001b[0minput\u001b[0m\u001b[0;34m(\u001b[0m\u001b[0;34m\"Final (out of 30): \"\u001b[0m\u001b[0;34m)\u001b[0m\u001b[0;34m)\u001b[0m\u001b[0;34m)\u001b[0m\u001b[0;34m\u001b[0m\u001b[0;34m\u001b[0m\u001b[0m\n\u001b[1;32m     14\u001b[0m \u001b[0mtotal\u001b[0m \u001b[0;34m=\u001b[0m \u001b[0mQ1\u001b[0m \u001b[0;34m+\u001b[0m \u001b[0mQ2\u001b[0m \u001b[0;34m+\u001b[0m \u001b[0mLab\u001b[0m \u001b[0;34m+\u001b[0m \u001b[0mMid\u001b[0m \u001b[0;34m+\u001b[0m \u001b[0mFinal\u001b[0m\u001b[0;34m\u001b[0m\u001b[0;34m\u001b[0m\u001b[0m\n\u001b[0;32m---> 15\u001b[0;31m \u001b[0mprint\u001b[0m\u001b[0;34m(\u001b[0m\u001b[0;34m\"Total marks: {}\"\u001b[0m\u001b[0;34m.\u001b[0m\u001b[0mformat\u001b[0m\u001b[0;34m(\u001b[0m\u001b[0mtotal\u001b[0m\u001b[0;34m.\u001b[0m\u001b[0mmark\u001b[0m\u001b[0;34m)\u001b[0m\u001b[0;34m)\u001b[0m\u001b[0;34m\u001b[0m\u001b[0;34m\u001b[0m\u001b[0m\n\u001b[0m",
            "\u001b[0;31mAttributeError\u001b[0m: 'Marks' object has no attribute 'mark'"
          ]
        }
      ],
      "source": [
        "class Marks:\n",
        "  def __init__ (self,marks):\n",
        "    self.marks=marks\n",
        "  def __add__(self,other):\n",
        "    self.other=other\n",
        "    relr\n",
        "\n",
        "\n",
        "Q1 = Marks(int(input(\"Quiz 1 (out of 10): \")))\n",
        "Q2 = Marks(int(input(\"Quiz 2 (out of 10): \")))\n",
        "Lab = Marks(int(input(\"Lab (out of 30): \")))\n",
        "Mid = Marks(int(input(\"Mid (out of 20): \")))\n",
        "Final = Marks(int(input(\"Final (out of 30): \")))\n",
        "total = Q1 + Q2 + Lab + Mid + Final\n",
        "print(\"Total marks: {}\".format(total.mark))"
      ]
    },
    {
      "cell_type": "code",
      "execution_count": 3,
      "metadata": {
        "colab": {
          "base_uri": "https://localhost:8080/"
        },
        "id": "6NCmeWK-NRsF",
        "outputId": "cc86f814-7037-476e-d98e-bb3fbfa71277"
      },
      "outputs": [
        {
          "name": "stdout",
          "output_type": "stream",
          "text": [
            "Total marks: 20\n"
          ]
        }
      ],
      "source": [
        "#1\n",
        "class Marks:\n",
        "  def __init__ (self,mark):\n",
        "    self.mark=mark\n",
        "  def __add__(self,other):\n",
        "    self.other=other\n",
        "    sum= self.mark+ other.mark #look at line 16\n",
        "    return Marks(sum)\n",
        "\n",
        "\n",
        "Q1 = Marks(int(input(\"Quiz 1 (out of 10): \")))\n",
        "Q2 = Marks(int(input(\"Quiz 2 (out of 10): \")))\n",
        "Lab = Marks(int(input(\"Lab (out of 30): \")))\n",
        "Mid = Marks(int(input(\"Mid (out of 20): \")))\n",
        "Final = Marks(int(input(\"Final (out of 30): \")))\n",
        "total = Q1 + Q2 + Lab + Mid + Final\n",
        "print(\"Total marks: {}\".format(total.mark))"
      ]
    },
    {
      "cell_type": "code",
      "execution_count": 10,
      "metadata": {},
      "outputs": [
        {
          "name": "stdout",
          "output_type": "stream",
          "text": [
            "Total marks: 20\n"
          ]
        }
      ],
      "source": [
        "#1 again f\n",
        "\n",
        "class Marks:\n",
        "    def __init__(self,mark):\n",
        "        self.mark=mark #mark ei dwa lagbe look at line 16\n",
        " \n",
        "    def __add__ (self,other):\n",
        "        self.other=other\n",
        "        sum =self.mark + other.mark\n",
        "        return Marks(sum) #!\n",
        "Q1 = Marks(int(input(\"Quiz 1 (out of 10): \"))) \n",
        "Q2 = Marks(int(input(\"Quiz 2 (out of 10): \"))) \n",
        "Lab = Marks(int(input(\"Lab (out of 30): \"))) \n",
        "Mid = Marks(int(input(\"Mid (out of 20): \"))) \n",
        "Final = Marks(int(input(\"Final (out of 30): \"))) \n",
        "total = Q1 + Q2 + Lab + Mid + Final \n",
        "print(\"Total marks: {}\".format(total.mark))\n"
      ]
    },
    {
      "cell_type": "code",
      "execution_count": 5,
      "metadata": {
        "colab": {
          "base_uri": "https://localhost:8080/",
          "height": 235
        },
        "id": "q9LCKnYJWgjY",
        "outputId": "038dd3cf-d4cd-487a-b954-3a570bb0a65f"
      },
      "outputs": [
        {
          "name": "stdout",
          "output_type": "stream",
          "text": [
            "====================================\n",
            "Name: Saad Abdullah\n",
            "Department: CSE\n",
            "List of courses\n",
            "====================================\n",
            "['CSE 110 Programming Language I', 'CSE 111 Programming Language-II']\n",
            "====================================\n",
            "====================================\n",
            "Name: Mumit Khan\n",
            "Department: CSE\n",
            "List of courses\n",
            "====================================\n",
            "['CSE 220 Data Structures', 'CSE 221 Algorithms', 'CCSE 230 Discrete Mathematics']\n",
            "====================================\n",
            "====================================\n",
            "Name: Sadia Kazi\n",
            "Department: CSE\n",
            "List of courses\n",
            "====================================\n",
            "['CSE 310 Object Oriented Programming', 'CSE 320 Data Communications', 'CSE 340 Computer Architecture']\n",
            "====================================\n"
          ]
        }
      ],
      "source": [
        "#2\n",
        "class Teacher:\n",
        "  def __init__(self,name,dep):\n",
        "    self.__name=name\n",
        "    self.__dep=dep\n",
        "    self.__course=[]\n",
        "\n",
        "  # def addCourse(self,x):\n",
        "  #   self.x=x\n",
        "  \n",
        "  def addCourse(self,c):\n",
        "    self.__course.append(c.course)\n",
        "    \n",
        "  # def __add__(self,other):\n",
        "  #   y= self.__course+ other.course\n",
        "  #   # print(y)\n",
        "    \n",
        "    # return Teacher(self.y)\n",
        "    \n",
        "  def printDetail(self):\n",
        "    print(\"====================================\")\n",
        "    print(f\"\"\"Name: {self.__name}\n",
        "Department: {self.__dep}\n",
        "List of courses\"\"\")\n",
        "    print(\"====================================\")\n",
        "    print(self.__course)\n",
        "    print(\"====================================\")\n",
        "    \n",
        "\n",
        "\n",
        "class Course:\n",
        "  def __init__(self,course):\n",
        "    self.course=course\n",
        "    # print(self.course)\n",
        "    \n",
        "    \n",
        "\n",
        "\n",
        "t1 = Teacher(\"Saad Abdullah\", \"CSE\")\n",
        "t2 = Teacher(\"Mumit Khan\", \"CSE\")\n",
        "t3 = Teacher(\"Sadia Kazi\", \"CSE\")\n",
        "c1 = Course(\"CSE 110 Programming Language I\")\n",
        "c2 = Course(\"CSE 111 Programming Language-II\")\n",
        "c3 = Course(\"CSE 220 Data Structures\")\n",
        "c4 = Course(\"CSE 221 Algorithms\")\n",
        "c5 = Course(\"CCSE 230 Discrete Mathematics\")\n",
        "c6 = Course(\"CSE 310 Object Oriented Programming\")\n",
        "c7 = Course(\"CSE 320 Data Communications\")\n",
        "c8 = Course(\"CSE 340 Computer Architecture\")\n",
        "t1.addCourse(c1)\n",
        "t1.addCourse(c2)\n",
        "t2.addCourse(c3)\n",
        "t2.addCourse(c4)\n",
        "t2.addCourse(c5)\n",
        "t3.addCourse(c6)\n",
        "t3.addCourse(c7)\n",
        "t3.addCourse(c8)\n",
        "t1.printDetail()\n",
        "t2.printDetail()\n",
        "t3.printDetail()"
      ]
    },
    {
      "cell_type": "code",
      "execution_count": 6,
      "metadata": {},
      "outputs": [
        {
          "name": "stdout",
          "output_type": "stream",
          "text": [
            "3\n"
          ]
        }
      ],
      "source": [
        "#how to access variable from another class\n",
        "class ClassA(object):\n",
        "    def __init__(self):\n",
        "        self.var1 = 1\n",
        "        self.var2 = 2\n",
        "\n",
        "    def methodA(self):\n",
        "        self.var1 = self.var1 + self.var2\n",
        "        return self.var1\n",
        "\n",
        "\n",
        "\n",
        "class ClassB(ClassA):\n",
        "    def __init__(self, class_a):\n",
        "        self.var1 = class_a.var1\n",
        "        self.var2 = class_a.var2\n",
        "\n",
        "object1 = ClassA()\n",
        "sum = object1.methodA()\n",
        "object2 = ClassB(object1)\n",
        "print(sum)"
      ]
    },
    {
      "cell_type": "code",
      "execution_count": 2,
      "metadata": {
        "id": "PgZnakmeW9PT"
      },
      "outputs": [
        {
          "ename": "TypeError",
          "evalue": "Team.__init__() takes 1 positional argument but 2 were given",
          "output_type": "error",
          "traceback": [
            "\u001b[1;31m---------------------------------------------------------------------------\u001b[0m",
            "\u001b[1;31mTypeError\u001b[0m                                 Traceback (most recent call last)",
            "\u001b[1;32md:\\Shihab\\02CSE\\CSE111\\W5 Method Overloading & Constructor Overloading\\BuxClassI Notes I Practice I L\\lab5.ipynb Cell 6\u001b[0m in \u001b[0;36m<cell line: 33>\u001b[1;34m()\u001b[0m\n\u001b[0;32m     <a href='vscode-notebook-cell:/d%3A/Shihab/02CSE/CSE111/W5%20Method%20Overloading%20%26%20Constructor%20Overloading/BuxClassI%20Notes%20I%20Practice%20I%20L/lab5.ipynb#W5sZmlsZQ%3D%3D?line=30'>31</a>\u001b[0m b\u001b[39m.\u001b[39maddPlayer(tamim) \n\u001b[0;32m     <a href='vscode-notebook-cell:/d%3A/Shihab/02CSE/CSE111/W5%20Method%20Overloading%20%26%20Constructor%20Overloading/BuxClassI%20Notes%20I%20Practice%20I%20L/lab5.ipynb#W5sZmlsZQ%3D%3D?line=31'>32</a>\u001b[0m b\u001b[39m.\u001b[39mprintDetail() \n\u001b[1;32m---> <a href='vscode-notebook-cell:/d%3A/Shihab/02CSE/CSE111/W5%20Method%20Overloading%20%26%20Constructor%20Overloading/BuxClassI%20Notes%20I%20Practice%20I%20L/lab5.ipynb#W5sZmlsZQ%3D%3D?line=32'>33</a>\u001b[0m a \u001b[39m=\u001b[39m Team(\u001b[39m\"\u001b[39;49m\u001b[39mAustralia\u001b[39;49m\u001b[39m\"\u001b[39;49m) \n\u001b[0;32m     <a href='vscode-notebook-cell:/d%3A/Shihab/02CSE/CSE111/W5%20Method%20Overloading%20%26%20Constructor%20Overloading/BuxClassI%20Notes%20I%20Practice%20I%20L/lab5.ipynb#W5sZmlsZQ%3D%3D?line=33'>34</a>\u001b[0m ponting \u001b[39m=\u001b[39m Player(\u001b[39m\"\u001b[39m\u001b[39mPonting\u001b[39m\u001b[39m\"\u001b[39m) \n\u001b[0;32m     <a href='vscode-notebook-cell:/d%3A/Shihab/02CSE/CSE111/W5%20Method%20Overloading%20%26%20Constructor%20Overloading/BuxClassI%20Notes%20I%20Practice%20I%20L/lab5.ipynb#W5sZmlsZQ%3D%3D?line=34'>35</a>\u001b[0m a\u001b[39m.\u001b[39maddPlayer(ponting) \n",
            "\u001b[1;31mTypeError\u001b[0m: Team.__init__() takes 1 positional argument but 2 were given"
          ]
        }
      ],
      "source": [
        "#3\n",
        "class Team:\n",
        "    def __init__(self,x=None):\n",
        "        if x==None:\n",
        "            self.__x=x\n",
        "        else:\n",
        "                \n",
        "        self.list_=[]\n",
        "        pass\n",
        "    def setName(self,desh):\n",
        "        self.__desh=desh\n",
        "    \n",
        "    def addPlayer(self,name):\n",
        "        self.__name=name\n",
        "    \n",
        "    def printDetail(self):\n",
        "        pass   \n",
        "       \n",
        "class Player:\n",
        "    def __init__(self,name):\n",
        "        self.name=name\n",
        "        \n",
        "    def addPlayer(self,name):\n",
        "        self.name=name\n",
        "       \n",
        "    def printDetai(self):\n",
        "        pass\n",
        "\n",
        "\n",
        "b = Team() \n",
        "b.setName('Bangladesh') \n",
        "mashrafi = Player(\"Mashrafi\") \n",
        "b.addPlayer(mashrafi) \n",
        "tamim = Player(\"Tamim\") \n",
        "b.addPlayer(tamim) \n",
        "b.printDetail() \n",
        "a = Team(\"Australia\") \n",
        "ponting = Player(\"Ponting\") \n",
        "a.addPlayer(ponting) \n",
        "lee = Player(\"Lee\") \n",
        "a.addPlayer(lee) \n",
        "a.printDetail()"
      ]
    },
    {
      "cell_type": "code",
      "execution_count": null,
      "metadata": {
        "id": "ViXcDB9pav9-"
      },
      "outputs": [],
      "source": []
    },
    {
      "cell_type": "code",
      "execution_count": 16,
      "metadata": {
        "colab": {
          "base_uri": "https://localhost:8080/",
          "height": 252
        },
        "id": "v9uxqjG7awTM",
        "outputId": "cfa8739a-083d-41be-f7b4-4d6983a5f154"
      },
      "outputs": [
        {
          "name": "stdout",
          "output_type": "stream",
          "text": [
            "First circle radius: 4\n",
            "First circle area: 50.26548245743669\n",
            "Second circle radius: 5\n",
            "Second circle area: 78.53981633974483\n",
            "Third circle radius: 9\n",
            "Third circle area: 254.46900494077323\n"
          ]
        }
      ],
      "source": [
        "#5\n",
        "import math\n",
        "class Circle:\n",
        "  def __init__(self,radius=None): #! p why none\n",
        "    self.__radius=radius\n",
        "\n",
        "  def getRadius(self):\n",
        "    return self.__radius\n",
        "\n",
        "  def setRadius(self):\n",
        "    self.__radius=radius\n",
        "    # self.__radius =radius\n",
        "\n",
        "  def area(self):\n",
        "    self.area=(math.pi)*self.__radius*self.__radius  \n",
        "    return self.area   \n",
        "\n",
        "  def __add__(self,other):\n",
        "    return Circle(self.__radius+other.__radius) \n",
        "\n",
        "c1 = Circle(4)\n",
        "print(\"First circle radius:\" , c1.getRadius())\n",
        "print(\"First circle area:\" ,c1.area())\n",
        "c2 = Circle(5)\n",
        "print(\"Second circle radius:\" ,c2.getRadius())\n",
        "print(\"Second circle area:\" ,c2.area())\n",
        "c3 = c1 + c2\n",
        "print(\"Third circle radius:\" ,c3.getRadius())\n",
        "print(\"Third circle area:\" ,c3.area())"
      ]
    },
    {
      "cell_type": "code",
      "execution_count": null,
      "metadata": {
        "colab": {
          "base_uri": "https://localhost:8080/"
        },
        "id": "dNL1z0QNawj1",
        "outputId": "eb3697af-deb8-49d6-ddeb-f9347c9dd953"
      },
      "outputs": [
        {
          "name": "stdout",
          "output_type": "stream",
          "text": [
            "First Triangle Base: 10\n",
            "First Triangle Height: 5\n",
            "First Triangle area: 25.0\n",
            "Second Triangle Base: 5\n",
            "Second Triangle Height: 3\n",
            "Second Triangle area: 7.5\n",
            "Third Triangle Base: 5\n",
            "Third Triangle Height: 2\n",
            "Third Triangle area: 5.0\n"
          ]
        }
      ],
      "source": [
        "#6\n",
        "class Triangle:\n",
        "  def __init__(self,base,height):\n",
        "    self.__base=base\n",
        "    self.__height=height\n",
        "\n",
        "\n",
        "  def getBase(self):\n",
        "    return self.__base\n",
        "\n",
        "  def setBase(self,newBase):\n",
        "    self.__newBase=newBase\n",
        "\n",
        "  def getHeight(self):\n",
        "    return self.__height\n",
        "\n",
        "  def setHeight(self,newHeight):\n",
        "    self.__newHeight=newHeight  \n",
        "\n",
        "  def area(self):\n",
        "    return 0.5*self.__height*self.__base\n",
        "\n",
        "  def __sub__(self,other):\n",
        "    return Triangle(self.__base-other.__base,self.__height-other.__height)\n",
        "\n",
        "\n",
        "t1 = Triangle(10, 5)\n",
        "print(\"First Triangle Base:\" , t1.getBase())\n",
        "print(\"First Triangle Height:\" , t1.getHeight())\n",
        "print(\"First Triangle area:\" ,t1.area())\n",
        "t2 = Triangle(5, 3)\n",
        "print(\"Second Triangle Base:\" , t2.getBase())\n",
        "print(\"Second Triangle Height:\" , t2.getHeight())\n",
        "print(\"Second Triangle area:\" ,t2.area())\n",
        "t3 = t1 - t2\n",
        "print(\"Third Triangle Base:\" , t3.getBase())\n",
        "print(\"Third Triangle Height:\" , t3.getHeight())\n",
        "print(\"Third Triangle area:\" ,t3.area())"
      ]
    },
    {
      "cell_type": "code",
      "execution_count": null,
      "metadata": {
        "id": "XpYodWR1aww9"
      },
      "outputs": [],
      "source": [
        "class Coordinates:\n",
        "  def __init__(self,x,y):\n",
        "    self.x=x\n",
        "    self.y=y\n",
        "  def __sub__(self,other):\n",
        "\n",
        "    return Coordinates(ilf.x-other.x),(self.y-other.y))\n",
        "\n",
        "  def __mul__(self):\n",
        "    self.\n",
        "ii\n",
        "p1 = Coordinates(int(input()),int(input()))\n",
        "p2 = Coordinates(int(input()),int(input()))\n",
        "p4 = p1 - p2\n",
        "print(p4.detail())\n",
        "p5 = p1 * p2\n",
        "print(p5.detail())\n",
        "point_check = (p4 == p5)\n",
        "print(point_check)"
      ]
    },
    {
      "cell_type": "code",
      "execution_count": null,
      "metadata": {
        "colab": {
          "base_uri": "https://localhost:8080/"
        },
        "id": "tLc1arRMaw9t",
        "outputId": "f21f9649-6e4a-4783-be68-a0587c98606a"
      },
      "outputs": [
        {
          "name": "stdout",
          "output_type": "stream",
          "text": [
            "1\n",
            "2\n",
            "3\n",
            "4\n",
            "(-2,-2)\n",
            "(3,8)\n",
            "The calculated coordinates are NOT the same.\n"
          ]
        }
      ],
      "source": [
        "class Coordinates:\n",
        "  def __init__(self,x,y):\n",
        "    self.x=x\n",
        "    self.y=y\n",
        "  def __sub__(self,other):\n",
        "\n",
        "    return Coordinates((self.x-other.x),(self.y-other.y))\n",
        "\n",
        "  def __mul__(self,other):\n",
        "      return Coordinates((self.x*other.x),(self.y*other.y))\n",
        "\n",
        "\n",
        "  def __eq__(self,other):\n",
        "    if self.x==other.x and self.y==other.y:\n",
        "      return \"The calculated coordinates are the same.\"\n",
        "    else:\n",
        "      return \"The calculated coordinates are NOT the same.\"\n",
        "\n",
        "  def detail(self):\n",
        "    return f\"({self.x},{self.y})\"  \n",
        "p1 = Coordinates(int(input()),int(input()))\n",
        "p2 = Coordinates(int(input()),int(input()))\n",
        "p4 = p1 - p2\n",
        "print(p4.detail())\n",
        "p5 = p1 * p2\n",
        "print(p5.detail())\n",
        "point_check = (p4 == p5)\n",
        "print(point_check)"
      ]
    },
    {
      "cell_type": "code",
      "execution_count": null,
      "metadata": {
        "id": "A0Lx_OQGaxLd"
      },
      "outputs": [],
      "source": []
    }
  ],
  "metadata": {
    "colab": {
      "name": "lab5.ipynb",
      "provenance": []
    },
    "kernelspec": {
      "display_name": "Python 3.10.4 64-bit",
      "language": "python",
      "name": "python3"
    },
    "language_info": {
      "codemirror_mode": {
        "name": "ipython",
        "version": 3
      },
      "file_extension": ".py",
      "mimetype": "text/x-python",
      "name": "python",
      "nbconvert_exporter": "python",
      "pygments_lexer": "ipython3",
      "version": "3.10.4"
    },
    "vscode": {
      "interpreter": {
        "hash": "8c3d4d9970fc5c09c50d9318a9c7fbf4d0159e4b28833276f5678ee22bded273"
      }
    }
  },
  "nbformat": 4,
  "nbformat_minor": 0
}
