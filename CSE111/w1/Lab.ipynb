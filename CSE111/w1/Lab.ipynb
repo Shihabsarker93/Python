{
 "cells": [
  {
   "cell_type": "markdown",
   "metadata": {},
   "source": [
    "#####################    STRING          ########################"
   ]
  },
  {
   "cell_type": "code",
   "execution_count": 5,
   "metadata": {},
   "outputs": [
    {
     "name": "stdout",
     "output_type": "stream",
     "text": [
      "0\n",
      "0\n"
     ]
    }
   ],
   "source": [
    "#1\n",
    "\n",
    "x= input()\n",
    "lowercse=\"\"\n",
    "uppercase=\"\"\n",
    "for i in x:\n",
    "    if 65>=ord(i)>=90:\n",
    "        uppercase+=1\n",
    "    else:\n",
    "        lowercse+=1\n",
    "y=print(len(lowercse))\n",
    "z=print(len(uppercase))\n",
    "\n"
   ]
  },
  {
   "cell_type": "code",
   "execution_count": 5,
   "metadata": {},
   "outputs": [
    {
     "name": "stdout",
     "output_type": "stream",
     "text": [
      "0\n",
      "6\n"
     ]
    }
   ],
   "source": [
    "#1\n",
    "x= input()\n",
    "lower=0\n",
    "upper=0\n",
    "for i in x:\n",
    "    if 65>=ord(i)>=90:\n",
    "        upper+=1\n",
    "    else:\n",
    "        lower+=1\n",
    "y=print(upper)\n",
    "z=print(lower)\n"
   ]
  },
  {
   "cell_type": "code",
   "execution_count": 17,
   "metadata": {},
   "outputs": [
    {
     "name": "stdout",
     "output_type": "stream",
     "text": [
      "alhamdulillah\n"
     ]
    }
   ],
   "source": [
    "#1 #! f\n",
    "string=input()\n",
    "lower = \"\"\n",
    "upper = \"\"\n",
    "for i in string:\n",
    "    if ord(i) >= 65 and ord(i) <= 90:\n",
    "        upper += i\n",
    "    else:                    \n",
    "        lower += i\n",
    "\n",
    "total_lower = (len(lower))\n",
    "total_upper = (len(upper))\n",
    "\n",
    "if total_upper > total_lower:\n",
    "    print(string.upper())\n",
    "elif total_lower > total_lower:\n",
    "    print(string.lower())\n",
    "else:\n",
    "    print(string.lower())   "
   ]
  },
  {
   "cell_type": "code",
   "execution_count": 1,
   "metadata": {},
   "outputs": [
    {
     "name": "stdout",
     "output_type": "stream",
     "text": [
      "Mixed\n"
     ]
    }
   ],
   "source": [
    "# x= input(\"Well give : \").lower()\n",
    "string =input()\n",
    "numeric_ = False #num\n",
    "alpha_ =False #latter\n",
    "for i in string:\n",
    "  # print(i)\n",
    "  if i.isnumeric():\n",
    "    numeric_=True\n",
    "  if i.isalpha():\n",
    "    alpha_==True\n",
    "\n",
    "if numeric_ ==False and alpha_== True:\n",
    "  print(\"Word\")\n",
    "elif numeric_ == True and alpha_ == False:\n",
    "  print(\"Number\")\n",
    "\n",
    "else:\n",
    "  \n",
    "  print(\"Mixed\")"
   ]
  },
  {
   "cell_type": "code",
   "execution_count": 11,
   "metadata": {},
   "outputs": [
    {
     "name": "stdout",
     "output_type": "stream",
     "text": [
      "mixed\n"
     ]
    }
   ],
   "source": [
    "#2 #! p\n",
    "string= input()\n",
    "for i in string:\n",
    "    num_== False\n",
    "    letter== False\n",
    "    if i.isnumeric():\n",
    "        num_= True\n",
    "    else:\n",
    "        i.isalpha()\n",
    "        letter=True\n",
    "\n",
    "if num_== False and letter== True:\n",
    "    print(\"word\")           \n",
    "\n",
    "elif num_== True and letter ==False:\n",
    "    print(\"number\")\n",
    "else:\n",
    "    print(\"mixed\")    "
   ]
  },
  {
   "cell_type": "code",
   "execution_count": 23,
   "metadata": {},
   "outputs": [
    {
     "name": "stdout",
     "output_type": "stream",
     "text": [
      "mixed\n"
     ]
    }
   ],
   "source": [
    "string=input()\n",
    "y=\"0123456789\"\n",
    "z=len(x)\n",
    "count=0\n",
    "for i in string:\n",
    "    for i in y:\n",
    "        count+=1\n",
    "\n",
    "if count ==0:\n",
    "    print(\"word\")\n",
    "if count ==z:\n",
    "    print(\"Number\")\n",
    "if count<z:\n",
    "    print(\"mixed\")   \n"
   ]
  },
  {
   "cell_type": "code",
   "execution_count": 2,
   "metadata": {},
   "outputs": [
    {
     "name": "stdout",
     "output_type": "stream",
     "text": [
      "MIXED\n"
     ]
    }
   ],
   "source": [
    "#2 #! f\n",
    "string = input()\n",
    "ref_str = \"0123456789\"\n",
    "len_str = len(string)\n",
    "count = 0\n",
    "\n",
    "for i in string:\n",
    "    if i in ref_str:\n",
    "        count += 1\n",
    "\n",
    "if count == 0:\n",
    "    print(\"WORD\")\n",
    "elif count < len_str:\n",
    "    print(\"MIXED\")\n",
    "elif count == len_str:\n",
    "    print(\"NUMBER\")\n",
    "\n",
    "\n",
    "# user_input = input()"
   ]
  },
  {
   "cell_type": "code",
   "execution_count": null,
   "metadata": {},
   "outputs": [],
   "source": [
    "#3 #!p\n",
    "string=input()\n",
    "\n",
    "for i in string:\n",
    "    if i given_string\n",
    "\n"
   ]
  },
  {
   "cell_type": "code",
   "execution_count": null,
   "metadata": {},
   "outputs": [],
   "source": [
    "#3 #! f\n",
    "def substring_printer(string1):\n",
    "    substring = \"\"\n",
    "    flag = False\n",
    "    for i in string1:\n",
    "        if 65 <= ord(i) <= 92:\n",
    "            flag = not flag\n",
    "        if flag == True:\n",
    "            substring += i\n",
    "    if len(substring) > 1:\n",
    "        print(substring[1:])\n",
    "    else:\n",
    "        print(\"Blank\")\n",
    "\n",
    "\n",
    "substring_printer(\"baNgladEsh\")\n",
    "substring_printer(\"coDIng\")"
   ]
  },
  {
   "cell_type": "code",
   "execution_count": 2,
   "metadata": {},
   "outputs": [
    {
     "name": "stdout",
     "output_type": "stream",
     "text": [
      "glad\n"
     ]
    }
   ],
   "source": [
    "string1=str(input())\n",
    "string2=str(input())\n",
    "substring = \"\"\n",
    "flag = False\n",
    "for i in string1:\n",
    "        if 65 <= ord(i) <= 92:\n",
    "            flag = not flag\n",
    "        if flag == True:\n",
    "            substring += i\n",
    "if len(substring) > 1:\n",
    "    print(substring[1:])\n",
    "else:\n",
    "    print(\"Blank\")\n"
   ]
  },
  {
   "cell_type": "code",
   "execution_count": 10,
   "metadata": {},
   "outputs": [
    {
     "name": "stdout",
     "output_type": "stream",
     "text": [
      "Not valid input\n"
     ]
    }
   ],
   "source": [
    "# def lower_substr(string):\n",
    "user_input = input()\n",
    "upper_count = sum(map(str.isupper, string))\n",
    "if upper_count == 2:\n",
    "    for i in string:\n",
    "        if i.isupper():\n",
    "            start = string.find(i)\n",
    "            new_str = string.replace(i, i.lower())\n",
    "            break\n",
    "\n",
    "    for i in new_str:\n",
    "        if i.isupper():\n",
    "            end = new_str.find(i)\n",
    "            break\n",
    "\n",
    "    var = string[start + 1 : end]\n",
    "    if var != \"\":\n",
    "        print(var)\n",
    "    else:\n",
    "        print(\"BLANK\")\n",
    "\n",
    "else:\n",
    "    print(\"Not valid input\")\n",
    "\n",
    "\n",
    "\n",
    "# lower_substr(user_input)"
   ]
  },
  {
   "cell_type": "code",
   "execution_count": 20,
   "metadata": {},
   "outputs": [
    {
     "ename": "IndentationError",
     "evalue": "unindent does not match any outer indentation level (<tokenize>, line 14)",
     "output_type": "error",
     "traceback": [
      "\u001b[1;36m  File \u001b[1;32m<tokenize>:14\u001b[1;36m\u001b[0m\n\u001b[1;33m    If char>=\"A\" and char<=\"Z\":\u001b[0m\n\u001b[1;37m    ^\u001b[0m\n\u001b[1;31mIndentationError\u001b[0m\u001b[1;31m:\u001b[0m unindent does not match any outer indentation level\n"
     ]
    }
   ],
   "source": [
    "given_string=\"CoDIng\"\n",
    "\n",
    "start=0\n",
    "end=0\n",
    "\n",
    "for index1 in range(0,len(given_string)): \n",
    "    char=given_string[index1]\n",
    "    If char>=\"A\" and char<=\"Z\":\n",
    "      start=index1 \n",
    "      break\n",
    "\n",
    "for index2 in range(start+1, len(given_string)):\n",
    "    char=given_string[index2]\n",
    "   If char>=\"A\" and char<=\"Z\":\n",
    "      end=index2\n",
    "      break\n",
    "if end-start==1:\n",
    "    print(\"balnk\")\n",
    "\n",
    "\n",
    "else:\n",
    "    print(given_string[start+1:end])\n"
   ]
  },
  {
   "cell_type": "code",
   "execution_count": 31,
   "metadata": {},
   "outputs": [
    {
     "name": "stdout",
     "output_type": "stream",
     "text": [
      "h h h h h h h h a a a a a a a a r r r r r r r r r r r r r r r r y y y y y y y y                 "
     ]
    }
   ],
   "source": [
    "#4\n",
    "\n",
    "s1=str(input())\n",
    "s2=str(input())\n",
    "\n",
    "# for i in range(len(s1)):\n",
    "#     if i in range(len(s2)):\n",
    "#       print(i,end=\"\")\n",
    "\n",
    "for i in s1:\n",
    "    for j in s2:\n",
    "        print(i,end=\" \")\n",
    "    "
   ]
  },
  {
   "cell_type": "code",
   "execution_count": 36,
   "metadata": {},
   "outputs": [
    {
     "name": "stdout",
     "output_type": "stream",
     "text": [
      "hrrhr\n"
     ]
    }
   ],
   "source": [
    "#4 #!f\n",
    "str1 = input(str('enter string1:'))\n",
    "str2 = input(str('enter string2:'))\n",
    "\n",
    "empty_str1 = ''\n",
    "empty_str2 = ''\n",
    "\n",
    "for i in str1:\n",
    "    if i in str2:\n",
    "        empty_str1 += i\n",
    "for j in str2:\n",
    "    if j in str1:\n",
    "        empty_str2 += j\n",
    "#print(empty_str1 + empty_str2)\n",
    "\n",
    "x = empty_str1 + empty_str2\n",
    "if empty_str1 or empty_str2: \n",
    "     print(x) \n",
    "else: \n",
    "     print(\"nothing in common\")\n"
   ]
  },
  {
   "cell_type": "code",
   "execution_count": 51,
   "metadata": {},
   "outputs": [
    {
     "ename": "TypeError",
     "evalue": "can only concatenate str (not \"int\") to str",
     "output_type": "error",
     "traceback": [
      "\u001b[1;31m---------------------------------------------------------------------------\u001b[0m",
      "\u001b[1;31mTypeError\u001b[0m                                 Traceback (most recent call last)",
      "Input \u001b[1;32mIn [51]\u001b[0m, in \u001b[0;36m<cell line: 13>\u001b[1;34m()\u001b[0m\n\u001b[0;32m     16\u001b[0m     \u001b[39mprint\u001b[39m(i)\n\u001b[0;32m     17\u001b[0m \u001b[39melif\u001b[39;00m(x[i])\u001b[39m.\u001b[39misupper():  \n\u001b[1;32m---> 18\u001b[0m     u\u001b[39m+\u001b[39m\u001b[39m=\u001b[39mi\n\u001b[0;32m     19\u001b[0m     \u001b[39mprint\u001b[39m(i)\n\u001b[0;32m     21\u001b[0m \u001b[39m# elif(x[i].isalpha()):\u001b[39;00m\n\u001b[0;32m     22\u001b[0m \u001b[39m#     a = a + 1\u001b[39;00m\n",
      "\u001b[1;31mTypeError\u001b[0m: can only concatenate str (not \"int\") to str"
     ]
    }
   ],
   "source": [
    "#5\n",
    "x = input(str(\"Please Enter your Own x : \"))\n",
    "# l=0\n",
    "# u=0\n",
    "# # a =0\n",
    "# d= 0\n",
    "# s = 0\n",
    "l=''\n",
    "u=''\n",
    "d=''\n",
    "s=''\n",
    "\n",
    "for i in range(len(x)):\n",
    "    if(x[i]).islower():\n",
    "        l+=i\n",
    "        print(i)\n",
    "    elif(x[i]).isupper():  \n",
    "        u+=i\n",
    "        print(i)\n",
    "\n",
    "    # elif(x[i].isalpha()):\n",
    "    #     a = a + 1\n",
    "    elif(x[i].isdigit()):\n",
    "        d+=i\n",
    "        print(i)\n",
    "        s+=i\n",
    "        print(i)\n",
    "# if a==0:\n",
    "#     print(\"letter missing\")\n",
    "# elif digits==0:\n",
    "#     print(\"d m\")\n",
    "# elif s ==0:\n",
    "#     print(\"s m\")\n",
    "# else:\n",
    "#     print(\"I love codingggggggggggg\")     \n",
    "# if d==0 and s==0 and l==0 and u==0:\n",
    "#     print('all missing')\n",
    "    \n",
    "# elif d==0 and s==0 and l==0 and u==0:\n",
    "#     print(\"Uppercase character missing, Digit missing, Special character missing\")   \n",
    "# elif a!=0 and d!=0 and s!=0 and l!=0 and u!=0:\n",
    "#     print(\"OK\")\n",
    "# else:\n",
    "#     print(\"ok\")    \n"
   ]
  },
  {
   "cell_type": "code",
   "execution_count": 7,
   "metadata": {},
   "outputs": [
    {
     "name": "stdout",
     "output_type": "stream",
     "text": [
      "Special character missing "
     ]
    }
   ],
   "source": [
    "#5 #! f\n",
    " \n",
    "string = input(\"Please Enter your Own String : \")\n",
    "lower= upper = digit = special = 0\n",
    "\n",
    "for i in range(len(string)):\n",
    "    if(string[i].isalpha()):\n",
    "        if(string[i].isupper()):\n",
    "            upper+=1\n",
    "        else:\n",
    "            lower+=1\n",
    "    elif(string[i].isdigit()):\n",
    "        digit = digit + 1\n",
    "    else:\n",
    "        special = special + 1\n",
    "        \n",
    "if digit>0 and lower>0 and upper>0 and special>0:\n",
    "    print(\"OK\")\n",
    "else:\n",
    "    if upper==0:\n",
    "        print('Uppercase character missing,',end=\" \")\n",
    "    if lower==0:\n",
    "        print('Lowercase character missing,',end=\" \")    \n",
    "    if digit==0:\n",
    "        print(\"Digit missing,\",end=\" \") \n",
    "    if special==0:\n",
    "        print(\"Special character missing\",end=\" \")\n",
    "   "
   ]
  },
  {
   "cell_type": "code",
   "execution_count": 5,
   "metadata": {},
   "outputs": [
    {
     "name": "stdout",
     "output_type": "stream",
     "text": [
      "Digit missing\n",
      "Uppercase character missing, Digit missing, Special character missing\n",
      "OK\n",
      "\n"
     ]
    }
   ],
   "source": [
    "def validity_checker(str1):\n",
    "    lower = 0\n",
    "    upper = 0\n",
    "    digit = 0\n",
    "    special = 0\n",
    "    sp_chars = {\"_\", \"$\", \"#\", \"@\"}\n",
    "    missing = \"\"\n",
    "    for i in str1:\n",
    "        if 97 <= ord(i) <= 122:\n",
    "            lower += 1\n",
    "        elif 65 <= ord(i) <= 92:\n",
    "            upper += 1\n",
    "        elif 48 <= ord(i) <= 57:\n",
    "            digit += 1\n",
    "        elif i in sp_chars:\n",
    "            special += 1\n",
    "\n",
    "    if lower > 0 and upper > 0 and digit > 0 and special > 0:\n",
    "        print(\"OK\")\n",
    "    else:\n",
    "        if lower == 0:\n",
    "            missing += \"Lowercase character missing, \"\n",
    "        if upper == 0:\n",
    "            missing += \"Uppercase character missing, \"\n",
    "        if digit == 0:\n",
    "            missing += \"Digit missing, \"\n",
    "        if special == 0:\n",
    "            missing += \"Special character missing, \"\n",
    "\n",
    "    print(missing[:-2])\n",
    "validity_checker(\"ohMyBR@CU\")\n",
    "validity_checker(\"ohmybracu\")\n",
    "validity_checker(\"OhMyBR@CU20\")    "
   ]
  },
  {
   "cell_type": "markdown",
   "metadata": {},
   "source": [
    "#################################         LIST          ######################"
   ]
  },
  {
   "cell_type": "code",
   "execution_count": 8,
   "metadata": {},
   "outputs": [
    {
     "name": "stdout",
     "output_type": "stream",
     "text": [
      "10  - 1 times\n",
      "20 - 1 times\n",
      "30 - 1 times\n",
      "39 - 1 times\n"
     ]
    }
   ],
   "source": [
    "# 1\n",
    "list1 = list()\n",
    "while True:\n",
    "    inp = (input())\n",
    "    if inp != \"STOP\":\n",
    "        list1.append(inp)\n",
    "    else:\n",
    "        break\n",
    "list2 = list()\n",
    "for i in list1:\n",
    "    if i not in list2:p\n",
    "        list2.append(i)\n",
    "\n",
    "for i in list2:\n",
    "    print(f\"{i} - {list1.count(i)} times\")"
   ]
  },
  {
   "cell_type": "code",
   "execution_count": 12,
   "metadata": {},
   "outputs": [
    {
     "name": "stdout",
     "output_type": "stream",
     "text": [
      "33\n",
      "[10, 11, 12]\n"
     ]
    }
   ],
   "source": [
    "# 2\n",
    "max = float('-inf')\n",
    "list1 = None\n",
    "for i in range(int(input())):\n",
    "    sum = 0\n",
    "    x = input().split()\n",
    "    y = list()\n",
    "    for i in x:\n",
    "        y.append(int(i))\n",
    "        sum += int(i)\n",
    "    if sum > max:\n",
    "        max = sum\n",
    "        list1 = y\n",
    "print(max)\n",
    "print(list1)\n"
   ]
  },
  {
   "cell_type": "code",
   "execution_count": null,
   "metadata": {},
   "outputs": [],
   "source": [
    "#3\n",
    "while True:\n",
    "    a = input()\n",
    "    if a == \"STOP\":\n",
    "        break\n",
    "    b = a.split()\n",
    "    c = list()\n",
    "    for i in b:\n",
    "        c.append(int(i))\n",
    "\n",
    "    for i in range(1, len(c)):\n",
    "        if 1 <= abs(c[i]-c[i-1]) <= len(c)-1:\n",
    "            ub = True\n",
    "        else:\n",
    "            ub = False\n",
    "    if ub == True:\n",
    "        print(\"UB Jumper\")\n",
    "    else:\n",
    "        print(\"Not UB Jumper\")"
   ]
  },
  {
   "cell_type": "code",
   "execution_count": 14,
   "metadata": {},
   "outputs": [
    {
     "name": "stdout",
     "output_type": "stream",
     "text": [
      "0\n"
     ]
    }
   ],
   "source": [
    "#4\n",
    "x, y = tuple(input().split())\n",
    "\n",
    "x, y = int(x), int(y)\n",
    "\n",
    "players = input().split()\n",
    "lst = list()\n",
    "for i in players:\n",
    "    lst.append(int(i))\n",
    "count = 0\n",
    "for i in lst:\n",
    "    if i+y <= 5:\n",
    "        count += 1\n",
    "\n",
    "print(int(count/3))"
   ]
  },
  {
   "cell_type": "code",
   "execution_count": 8,
   "metadata": {},
   "outputs": [
    {
     "name": "stdout",
     "output_type": "stream",
     "text": [
      "10 - 1\n"
     ]
    }
   ],
   "source": [
    "#lsit\n",
    "# Python3 program to calculate the frequency\n",
    "# of each word in the given string\n",
    "\n",
    "# Function to print frequency of each word\n",
    "def printFrequency(strr):\n",
    "\tM = {}\n",
    "\t\n",
    "\t# string for storing the words\n",
    "\tword = \"\"\n",
    "\t\n",
    "\tfor i in range(len(strr)):\n",
    "\t\t\n",
    "\t\t# Check if current character\n",
    "\t\t# is blank space then it\n",
    "\t\t# means we have got one word\n",
    "\t\tif (strr[i] == ' '):\n",
    "\t\t\t\n",
    "\t\t\t# If the current word\t\n",
    "\t\t\t# is not found then insert\n",
    "\t\t\t# current word with frequency 1\n",
    "\t\t\tif (word not in M):\n",
    "\t\t\t\tM[word] = 1\n",
    "\t\t\t\tword = \"\"\n",
    "\t\t\t\n",
    "\t\t\t# update the frequency\n",
    "\t\t\telse:\n",
    "\t\t\t\tM[word] += 1\n",
    "\t\t\t\tword = \"\"\n",
    "\t\t\n",
    "\t\telse:\n",
    "\t\t\tword += strr[i]\n",
    "\t\n",
    "\t# Storing the last word of the string\n",
    "\tif (word not in M):\n",
    "\t\tM[word] = 1\n",
    "\t\n",
    "\t# Update the frequency\n",
    "\telse:\n",
    "\t\tM[word] += 1\n",
    "\t\t\n",
    "\t# Traverse the map\n",
    "\t# to print the frequency\n",
    "\tfor it in M:\n",
    "\t\tprint(it, \"-\", M[it])\n",
    "\t\n",
    "# Driver Code\n",
    "strr =input()\n",
    "printFrequency(strr)\n",
    "\n",
    "# This code is contributed by shubhamsingh10\n"
   ]
  },
  {
   "cell_type": "code",
   "execution_count": 10,
   "metadata": {},
   "outputs": [
    {
     "name": "stdout",
     "output_type": "stream",
     "text": [
      "Characters and their corresponding frequencies\n",
      "p-2\n",
      "i-1\n",
      "c-2\n",
      "t-2\n",
      "u-1\n",
      "r-2\n",
      "e-3\n",
      "f-1\n"
     ]
    }
   ],
   "source": [
    "# string = \"picture perfect\";  \n",
    "string=input()\n",
    "freq = [None] * len(string);  \n",
    "   \n",
    "for i in range(0, len(string)):  \n",
    "    freq[i] = 1;  \n",
    "    for j in range(i+1, len(string)):  \n",
    "        if(string[i] == string[j]):  \n",
    "            freq[i] = freq[i] + 1;  \n",
    "              \n",
    "            #Set string[j] to 0 to avoid printing visited character  \n",
    "            string = string[ : j] + '0' + string[j+1 : ];  \n",
    "              \n",
    "#Displays the each character and their corresponding frequency  \n",
    "print(\"Characters and their corresponding frequencies\");  \n",
    "for i in range(0, len(freq)):  \n",
    "    if(string[i] != ' ' and string[i] != '0'):  \n",
    "        print(string[i] + \"-\" + str(freq[i]));  "
   ]
  },
  {
   "cell_type": "code",
   "execution_count": 6,
   "metadata": {},
   "outputs": [
    {
     "ename": "NameError",
     "evalue": "name 'my_list' is not defined",
     "output_type": "error",
     "traceback": [
      "\u001b[1;31m---------------------------------------------------------------------------\u001b[0m",
      "\u001b[1;31mNameError\u001b[0m                                 Traceback (most recent call last)",
      "\u001b[1;32mf:\\02CSE\\CSE111\\W1\\03 Bux I Class I Practice\\Lab.ipynb Cell 14'\u001b[0m in \u001b[0;36m<cell line: 6>\u001b[1;34m()\u001b[0m\n\u001b[0;32m      <a href='vscode-notebook-cell:/f%3A/02CSE/CSE111/W1/03%20Bux%20I%20Class%20I%20Practice/Lab.ipynb#ch0000013?line=3'>4</a>\u001b[0m inp \u001b[39m=\u001b[39m \u001b[39minput\u001b[39m()\n\u001b[0;32m      <a href='vscode-notebook-cell:/f%3A/02CSE/CSE111/W1/03%20Bux%20I%20Class%20I%20Practice/Lab.ipynb#ch0000013?line=5'>6</a>\u001b[0m \u001b[39mwhile\u001b[39;00m inp\u001b[39m.\u001b[39mlower() \u001b[39m!=\u001b[39m \u001b[39m\"\u001b[39m\u001b[39mstop\u001b[39m\u001b[39m\"\u001b[39m:\n\u001b[1;32m----> <a href='vscode-notebook-cell:/f%3A/02CSE/CSE111/W1/03%20Bux%20I%20Class%20I%20Practice/Lab.ipynb#ch0000013?line=7'>8</a>\u001b[0m    my_list\u001b[39m.\u001b[39mappend(\u001b[39mint\u001b[39m(inp))\n\u001b[0;32m     <a href='vscode-notebook-cell:/f%3A/02CSE/CSE111/W1/03%20Bux%20I%20Class%20I%20Practice/Lab.ipynb#ch0000013?line=9'>10</a>\u001b[0m    inp \u001b[39m=\u001b[39m \u001b[39minput\u001b[39m()\n\u001b[0;32m     <a href='vscode-notebook-cell:/f%3A/02CSE/CSE111/W1/03%20Bux%20I%20Class%20I%20Practice/Lab.ipynb#ch0000013?line=11'>12</a>\u001b[0m Dict_freq \u001b[39m=\u001b[39m {}\n",
      "\u001b[1;31mNameError\u001b[0m: name 'my_list' is not defined"
     ]
    }
   ],
   "source": [
    "# #!dict_\n",
    "#2my_list = []\n",
    "\n",
    "inp = input()\n",
    "\n",
    "while inp.lower() != \"stop\":\n",
    "\n",
    "   my_list.append(int(inp))\n",
    "\n",
    "   inp = input()\n",
    "\n",
    "Dict_freq = {}\n",
    "\n",
    "for i in my_list:\n",
    "\n",
    "   if (i in Dict_freq):\n",
    "\n",
    "       Dict_freq[i]+= 1\n",
    "\n",
    "   else:\n",
    "\n",
    "       Dict_freq[i] = 1\n",
    "\n",
    "for key, value in Dict_freq.items():\n",
    "\n",
    "   print (key,\"-\",value,\"times\")"
   ]
  },
  {
   "cell_type": "code",
   "execution_count": 4,
   "metadata": {},
   "outputs": [
    {
     "name": "stdout",
     "output_type": "stream",
     "text": [
      "UB Jumper\n",
      "UB Jumper\n",
      "Not UB Jumper\n"
     ]
    }
   ],
   "source": [
    "#3\n",
    "while(True):\n",
    "    inp=input() # Taking input\n",
    "    if(inp==\"STOP\"): # stopping when input is stop.\n",
    "       break\n",
    "    l=list(map(int,inp.split()))\n",
    "    li=[]\n",
    "    for i in range(len(l)-1):\n",
    "        li.append(abs(l[i]-l[i+1])) # calculate abs Difference\n",
    "        li.sort()\n",
    "    if li==[i for i in range(1,len(l))]: # Checking whether the abs differences equal to the [1,2,3,..]\n",
    "        print(\"UB Jumper\")\n",
    "    else:\n",
    "        print(\"Not UB Jumper\")\n",
    "\n",
    "# Output:\n",
    "\n",
    "# 1 4 2 3\n",
    "# UB Jumper\n",
    "# 2 1 4 6 10\n",
    "# UB Jumper\n",
    "# 1 4 2 -1 6\n",
    "# Not UB Jumper\n",
    "# STOP"
   ]
  },
  {
   "cell_type": "code",
   "execution_count": null,
   "metadata": {},
   "outputs": [],
   "source": [
    "def textToKey(string) :\n",
    "    keypad = {\n",
    "        '1' : ['.', ',', '?', '!', ':'],\n",
    "        '2' : ['A', 'B', 'C'],\n",
    "        '3' : ['D', 'E', 'F'],\n",
    "        '4' : ['G', 'H', 'I'],\n",
    "        '5' : ['J', 'K', 'L'],\n",
    "        '6' : ['M', 'N', 'O'],\n",
    "        '7' : ['P', 'Q', 'R', 'S'],\n",
    "        '8' : ['T', 'U', 'V'],\n",
    "        '9' : ['W', 'X', 'Y', 'Z'],\n",
    "        '0' : [' ']\n",
    "    }\n",
    "\n",
    "\n",
    "    txt = string.upper()\n",
    "\n",
    "    result = \"\"\n",
    "    keys = list(keypad.items())\n",
    "\n",
    "    for i in range(len(txt)):\n",
    "        for j in range(len(keys)):\n",
    "            for k in range(len(keys[j][1])):\n",
    "                if txt[i] == keys[j][1][k]:\n",
    "                    result+=((k+1)*keys[j][0])\n",
    "\n",
    "    # print(result)\n",
    "    return result\n",
    "textTokey(hello world!)      "
   ]
  },
  {
   "cell_type": "code",
   "execution_count": null,
   "metadata": {},
   "outputs": [],
   "source": [
    "x=\n",
    "y=\n",
    "z=\n",
    "if x"
   ]
  },
  {
   "cell_type": "markdown",
   "metadata": {},
   "source": [
    "#################  DICTIONARY    ###################\n"
   ]
  },
  {
   "cell_type": "code",
   "execution_count": 7,
   "metadata": {},
   "outputs": [
    {
     "ename": "ValueError",
     "evalue": "invalid literal for int() with base 10: ''",
     "output_type": "error",
     "traceback": [
      "\u001b[1;31m---------------------------------------------------------------------------\u001b[0m",
      "\u001b[1;31mValueError\u001b[0m                                Traceback (most recent call last)",
      "\u001b[1;32mf:\\02CSE\\CSE111\\W1\\03 Bux I Class I Practice\\Lab.ipynb Cell 16'\u001b[0m in \u001b[0;36m<cell line: 2>\u001b[1;34m()\u001b[0m\n\u001b[0;32m      <a href='vscode-notebook-cell:/f%3A/02CSE/CSE111/W1/03%20Bux%20I%20Class%20I%20Practice/Lab.ipynb#ch0000015?line=0'>1</a>\u001b[0m \u001b[39m#1\u001b[39;00m\n\u001b[1;32m----> <a href='vscode-notebook-cell:/f%3A/02CSE/CSE111/W1/03%20Bux%20I%20Class%20I%20Practice/Lab.ipynb#ch0000015?line=1'>2</a>\u001b[0m n \u001b[39m=\u001b[39m \u001b[39mint\u001b[39;49m(\u001b[39minput\u001b[39;49m(\u001b[39m\"\u001b[39;49m\u001b[39menter a n value:\u001b[39;49m\u001b[39m\"\u001b[39;49m))\n\u001b[0;32m      <a href='vscode-notebook-cell:/f%3A/02CSE/CSE111/W1/03%20Bux%20I%20Class%20I%20Practice/Lab.ipynb#ch0000015?line=2'>3</a>\u001b[0m d \u001b[39m=\u001b[39m {}\n\u001b[0;32m      <a href='vscode-notebook-cell:/f%3A/02CSE/CSE111/W1/03%20Bux%20I%20Class%20I%20Practice/Lab.ipynb#ch0000015?line=4'>5</a>\u001b[0m \u001b[39mfor\u001b[39;00m i \u001b[39min\u001b[39;00m \u001b[39mrange\u001b[39m(n):\n",
      "\u001b[1;31mValueError\u001b[0m: invalid literal for int() with base 10: ''"
     ]
    }
   ],
   "source": [
    "#1\n",
    "n = int(input(\"enter a n value:\"))\n",
    "d = {}\n",
    "\n",
    "for i in range(n):\n",
    "    keys = input() # here i have taken keys as strings\n",
    "    values = int(input()) # here i have taken values as integers\n",
    "    d[keys] = values"
   ]
  },
  {
   "cell_type": "code",
   "execution_count": 10,
   "metadata": {},
   "outputs": [
    {
     "name": "stdout",
     "output_type": "stream",
     "text": [
      "10 - 2 times\n",
      "20 - 3 times\n"
     ]
    }
   ],
   "source": [
    "#2\n",
    "my_list = []\n",
    "\n",
    "inp = input()\n",
    "\n",
    "while inp.lower() != \"stop\":\n",
    "\n",
    "   my_list.append(int(inp))\n",
    "\n",
    "   inp = input()\n",
    "\n",
    "Dict_freq = {}\n",
    "\n",
    "for i in my_list:\n",
    "\n",
    "   if (i in Dict_freq):\n",
    "\n",
    "       Dict_freq[i]+= 1\n",
    "\n",
    "   else:\n",
    "\n",
    "       Dict_freq[i] = 1\n",
    "\n",
    "for key, value in Dict_freq.items():\n",
    "\n",
    "   print (key,\"-\",value,\"times\")"
   ]
  },
  {
   "cell_type": "code",
   "execution_count": 6,
   "metadata": {},
   "outputs": [
    {
     "name": "stdout",
     "output_type": "stream",
     "text": [
      "{' value1': ['key1 ', ' key3 '], ' value2': [' key2 ']}\n"
     ]
    }
   ],
   "source": [
    "#3\n",
    "dct={}\n",
    "val=input().split(\",\")\n",
    "for i in val:\n",
    "   list1=i.split(\":\")\n",
    "   if list1[1] not in dct.keys():\n",
    "      dct[list1[1]]=[list1[0]]\n",
    "   else:\n",
    "      dct[list1[1]].append(list1[0])\n",
    "print(dct)    \n"
   ]
  },
  {
   "cell_type": "code",
   "execution_count": 25,
   "metadata": {},
   "outputs": [
    {
     "name": "stdout",
     "output_type": "stream",
     "text": [
      "4433555555666110966677755531111"
     ]
    }
   ],
   "source": [
    "#4\n",
    "data= {\n",
    "    1:[\".\",\",\",\"?\",\"!\",\":\"],\n",
    "    2:[\"A\",\"B\",\"C\"],\n",
    "    3:[\"D\",\"E\",\"F\"],\n",
    "    4:[\"G\",\"H\",\"I\"],\n",
    "    5:[\"J\",\"K\",\"L\"], \n",
    "    6:[\"M\",\"N\",\"O\"],\n",
    "    7:[\"P\",\"Q\",\"R\",\"S\"],\n",
    "    8:[\"T\",\"U\",\"V\"],\n",
    "    9:[\"W\",\"X\",\"Y\",\"Z\"],\n",
    "    0:[\" \"]\n",
    "    }\n",
    "user=input().upper()\n",
    "# uesr=user_input.lower()\n",
    "for i in user:\n",
    "    for keys, values in data.items():\n",
    "        for j in range(len(values)):\n",
    "            if i==values[j]:\n",
    "                x=0\n",
    "                while x<=j:\n",
    "                    print(keys,end=\"\")\n",
    "                    x+=1\n"
   ]
  },
  {
   "cell_type": "markdown",
   "metadata": {},
   "source": [
    "############################     FUNCTION           ###########################"
   ]
  },
  {
   "cell_type": "code",
   "execution_count": null,
   "metadata": {},
   "outputs": [],
   "source": []
  }
 ],
 "metadata": {
  "interpreter": {
   "hash": "67e0cbc25fa4f5baaacba1240f401bc655b640f8e15cfc935dfee2e63491bdf4"
  },
  "kernelspec": {
   "display_name": "Python 3.10.4 64-bit",
   "language": "python",
   "name": "python3"
  },
  "language_info": {
   "codemirror_mode": {
    "name": "ipython",
    "version": 3
   },
   "file_extension": ".py",
   "mimetype": "text/x-python",
   "name": "python",
   "nbconvert_exporter": "python",
   "pygments_lexer": "ipython3",
   "version": "3.10.4"
  },
  "orig_nbformat": 4
 },
 "nbformat": 4,
 "nbformat_minor": 2
}
