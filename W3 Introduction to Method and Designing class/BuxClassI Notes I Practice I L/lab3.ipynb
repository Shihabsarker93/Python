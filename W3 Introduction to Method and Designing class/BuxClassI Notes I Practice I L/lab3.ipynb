{
  "cells": [
    {
      "cell_type": "code",
      "execution_count": null,
      "metadata": {
        "colab": {
          "base_uri": "https://localhost:8080/"
        },
        "id": "Xe-uJrZM26eW",
        "outputId": "279753d1-acd6-411e-ef81-bbf65bc9f558"
      },
      "outputs": [
        {
          "name": "stdout",
          "output_type": "stream",
          "text": [
            "Let's Calculate\n",
            "Value 1 : 1\n",
            "Operator : +\n",
            "Value 2 : 9\n",
            "Result 10\n"
          ]
        }
      ],
      "source": [
        "#1\n",
        "class Calculator:\n",
        "  def __init__(self):\n",
        "    print(\"Let's Calculate\")\n",
        "  def add(self, first, second):\n",
        "    return first + second\n",
        "  def subtract(self, first , second):\n",
        "    return first - second\n",
        "  def into(self, first , second):\n",
        "    return first * second\n",
        "  def by(self, first , second): \n",
        "    return first/ second \n",
        "clac= Calculator()\n",
        "val1=int(input(\"Value 1 : \"))\n",
        "operator= input(\"Operator : \")\n",
        "val2=int(input(\"Value 2 : \"))\n",
        "if operator== \"+\":\n",
        "  result= clac.add(val1,val2)\n",
        "elif operator ==\"-\":\n",
        "  result= clac.subtract(val1,val2)\n",
        "elif operator ==\"*\":\n",
        "  result= clac.into(val1,val2)\n",
        "elif operator ==\"/\":\n",
        "  result= clac.by(val1,val2)\n",
        "print(\"Result\", result)\n",
        "\n"
      ]
    },
    {
      "cell_type": "code",
      "execution_count": null,
      "metadata": {
        "colab": {
          "base_uri": "https://localhost:8080/"
        },
        "id": "IJBpnDPt-K2S",
        "outputId": "685556cc-e5e2-4f48-b53e-12e646b5bebc"
      },
      "outputs": [
        {
          "name": "stdout",
          "output_type": "stream",
          "text": [
            "CSE110 - TBA - 8\n",
            "===============\n",
            "CSE111 - TBA - 9\n"
          ]
        }
      ],
      "source": [
        "#2 f\n",
        "class Course:\n",
        "  def __init__(self,name,facality,section):\n",
        "    self.naam =name\n",
        "    self.teacher= facality\n",
        "    self.sec = section\n",
        "\n",
        "\n",
        "  \n",
        "  def detail(self):\n",
        "   print(self.naam,\"-\",self.teacher,\"-\",self.sec)\n",
        "c1 = Course(\"CSE110\", \"TBA\", 8)\n",
        "c1.detail()\n",
        "print(\"===============\")\n",
        "c2 = Course(\"CSE111\", \"TBA\", 9)\n",
        "c2.detail()"
      ]
    },
    {
      "cell_type": "code",
      "execution_count": 2,
      "metadata": {},
      "outputs": [
        {
          "name": "stdout",
          "output_type": "stream",
          "text": [
            "CSE110 - TBA - 8\n",
            "===============\n",
            "CSE111 - TBA - 9\n"
          ]
        }
      ],
      "source": [
        "#2\n",
        "class Course:\n",
        "  def __init__(self,name,facality,section):\n",
        "    self.naam =name\n",
        "    self.teacher= facality\n",
        "    self.sec = section\n",
        "\n",
        "\n",
        "  \n",
        "  def detail(self):\n",
        "   print(self.naam,\"-\",self.teacher,\"-\",self.sec)\n",
        "c1 = Course(\"CSE110\", \"TBA\", 8)\n",
        "c1.detail()\n",
        "print(\"===============\")\n",
        "c2 = Course(\"CSE111\", \"TBA\", 9)\n",
        "c2.detail()"
      ]
    },
    {
      "cell_type": "code",
      "execution_count": null,
      "metadata": {
        "colab": {
          "base_uri": "https://localhost:8080/"
        },
        "id": "pfLtvXvy_yRu",
        "outputId": "292b517c-2379-4b21-8f0b-97a740b359b7"
      },
      "outputs": [
        {
          "name": "stdout",
          "output_type": "stream",
          "text": [
            "Name: A\n",
            "Age: 55\n",
            "Weight 63.0\n",
            "Height: 158.0\n",
            "BMI: 25.23634033007531\n",
            "====================\n",
            "Name: B\n",
            "Age: 53\n",
            "Weight 61.0\n",
            "Height: 149.0\n",
            "BMI: 27.47623980901761\n"
          ]
        }
      ],
      "source": [
        "#3\n",
        "#p kiave constractor a korbo\n",
        "class Patient:\n",
        "  def __init__(self,name,age,weight,height):\n",
        "    self.name= name\n",
        "    self.age=age\n",
        "    self.weight= weight\n",
        "    self.height=height\n",
        "    # pass\n",
        "\n",
        "\n",
        "  def printDetails(self):\n",
        "    bmi=((self.weight)/(self.height**2))*10000\n",
        "\n",
        "    print(\"Name:\",self.name)\n",
        "    print(\"Age:\",self.age)\n",
        "    print(\"Weight\",self.weight)\n",
        "    print(\"Height:\",self.height)\n",
        "    print(\"BMI:\",bmi)\n",
        "\n",
        "\n",
        "\n",
        "p1 = Patient(\"A\", 55, 63.0, 158.0)\n",
        "p1.printDetails()\n",
        "print(\"====================\")\n",
        "p2 = Patient(\"B\", 53, 61.0, 149.0)\n",
        "p2.printDetails()"
      ]
    },
    {
      "cell_type": "code",
      "execution_count": null,
      "metadata": {
        "colab": {
          "base_uri": "https://localhost:8080/"
        },
        "id": "kPAvsTvSC798",
        "outputId": "89dacdf6-2e11-4a6c-85f6-221fd1bfd1e5"
      },
      "outputs": [
        {
          "name": "stdout",
          "output_type": "stream",
          "text": [
            "(0,0)\n",
            "(1,0)\n",
            "(1,1)\n",
            "(0,1)\n"
          ]
        }
      ],
      "source": [
        "#4\n",
        "class Vehicle:\n",
        "  def __init__(self):\n",
        "    self.x=0\n",
        "    self.y=0\n",
        "    \n",
        "\n",
        "\n",
        "  def print_position(self):\n",
        "    print(\"(\"+str(self.x)+\",\"+str(self.y)+\")\")\n",
        "\n",
        "  def moveUp(self):\n",
        "    self.x+=1\n",
        "\n",
        "  def moveDown(self):  \n",
        "    self.x-=1\n",
        "   \n",
        "  def moveLeft(self):\n",
        "    self.y+=1\n",
        "\n",
        "  def moveRight(self):\n",
        "    self.y+=1\n",
        "\n",
        "\n",
        "\n",
        "car = Vehicle()\n",
        "car.print_position()\n",
        "car.moveUp()\n",
        "car.print_position()\n",
        "car.moveLeft()\n",
        "car.print_position()\n",
        "car.moveDown()\n",
        "car.print_position()\n",
        "car.moveRight()"
      ]
    },
    {
      "cell_type": "code",
      "execution_count": 16,
      "metadata": {},
      "outputs": [
        {
          "name": "stdout",
          "output_type": "stream",
          "text": [
            "Area: 125.0\n",
            "==========================\n",
            "Area: 100\n",
            "==========================\n",
            "Area: 225.0\n",
            "==========================\n",
            "Area: 450\n",
            "==========================\n",
            "Area: Area: Shape unknown\n"
          ]
        }
      ],
      "source": [
        "#5\n",
        "class Shape:\n",
        "\n",
        "     def __init__ (self,x,y,z):\n",
        "         \n",
        "        self.a=x\n",
        "        self.b=y\n",
        "        self.c=z\n",
        "\n",
        "   \n",
        "     def area(self):\n",
        "          if self.a==\"Triangle\":\n",
        "            a1=((self.b*self.c)/2)         \n",
        "            print(\"Area:\",a1)        \n",
        "          elif self.a==\"Square\":\n",
        "            a1=(self.b*self.c)\n",
        "            print(\"Area:\",a1)\n",
        "          elif self.a==\"Rhombus\":              \n",
        "               a1=((self.b*self.c)/2)               \n",
        "               print(\"Area:\",a1)             \n",
        "          elif self.a==\"Rectangle\":             \n",
        "               a1=(self.b*self.c)\n",
        "               print(\"Area:\",a1)             \n",
        "          elif self.a==\"Trapezium\":\n",
        "               a1=\"Area: Shape unknown\"\n",
        "               print(\"Area:\",a1)\n",
        "\n",
        "triangle = Shape(\"Triangle\",10,25) \n",
        "triangle.area() \n",
        "print(\"==========================\") \n",
        "square = Shape(\"Square\",10,10) \n",
        "square.area() \n",
        "print(\"==========================\") \n",
        "rhombus = Shape(\"Rhombus\",18,25) \n",
        "rhombus.area() \n",
        "print(\"==========================\") \n",
        "rectangle = Shape(\"Rectangle\",15,30) \n",
        "rectangle.area() \n",
        "print(\"==========================\") \n",
        "trapezium = Shape(\"Trapezium\",15,30) \n",
        "trapezium.area()"
      ]
    },
    {
      "cell_type": "code",
      "execution_count": 9,
      "metadata": {},
      "outputs": [
        {
          "name": "stdout",
          "output_type": "stream",
          "text": [
            "Calculator is ready!\n",
            "==================\n",
            "Returned value: 30\n",
            "10 + 20 = 30\n",
            "==================\n",
            "Returned value: 20\n",
            "30 - 10 = 20\n",
            "==================\n",
            "Returned value: 100\n",
            "20 * 5 = 100\n",
            "==================\n",
            "Returned value: 6.25\n",
            "100 / 16 = 6.25\n"
          ]
        }
      ],
      "source": [
        "#6\n",
        "class Calculator:\n",
        "    def __init__ (self):\n",
        "       \n",
        "        print(\"Calculator is ready!\")\n",
        "    def calculate(self,v1,v2,op):\n",
        "        self.x=v1\n",
        "        self.y=v2\n",
        "        self.z=op\n",
        "        if self.z == \"+\":\n",
        "            self.val= self.x + self.y\n",
        "            return self.val\n",
        "        if self.z ==\"-\":\n",
        "            self.val= self.x - self.y\n",
        "            return self.val\n",
        "        if self.z == \"*\":\n",
        "            self.val= self.x * self.y\n",
        "            return self.val\n",
        "        if self.z == \"/\":\n",
        "            self.val= self.x / self.y\n",
        "            return self.val\n",
        "    def showCalculation(self):\n",
        "        print(self.x,self.z,self.y,\"=\",val) \n",
        "c1 = Calculator() \n",
        "print(\"==================\") \n",
        "val = c1.calculate(10, 20, '+') \n",
        "print(\"Returned value:\", val) \n",
        "c1.showCalculation() \n",
        "print(\"==================\") \n",
        "val = c1.calculate(val, 10, '-') \n",
        "print(\"Returned value:\", val) \n",
        "c1.showCalculation() \n",
        "print(\"==================\") \n",
        "val = c1.calculate(val, 5, '*') \n",
        "print(\"Returned value:\", val) \n",
        "c1.showCalculation() \n",
        "print(\"==================\") \n",
        "val = c1.calculate(val, 16, '/') \n",
        "print(\"Returned value:\", val) \n",
        "c1.showCalculation()"
      ]
    },
    {
      "cell_type": "code",
      "execution_count": 4,
      "metadata": {},
      "outputs": [
        {
          "name": "stdout",
          "output_type": "stream",
          "text": [
            "==========================\n",
            "Name: Dora, ID: 15995599\n",
            "Department: CSE\n",
            "Your academic standing is 'Highest\n",
            "Distinction'\n",
            "==========================\n",
            "==========================\n",
            "Name: Pingu, ID: 12312322\n",
            "Department: EEE\n",
            "Sorry, you cannot graduate\n",
            "==========================\n",
            "==========================\n",
            "Name: Bob, ID: 13311331\n",
            "Department: CSE\n",
            "Your academic standing is 'Satisfactory'\n"
          ]
        }
      ],
      "source": [
        "#7\n",
        "class Student:\n",
        "    def __init__(self,name,id,sub,cg):\n",
        "        self.a=name\n",
        "        self.b=id\n",
        "        self.c=sub\n",
        "        self.d=cg\n",
        "    def calculate_CGPA(self):\n",
        "        cgpa = 0\n",
        "        for i in self.d:\n",
        "            cgpa+=i*3\n",
        "        self.total=cgpa/len(self.d*3)\n",
        "        \n",
        "        # pass      \n",
        "    def print_details(self):       \n",
        "        print(f\"Name: {self.a}, ID: {self.b}\")\n",
        "        print(\"Department:\",self.c) \n",
        "        # if len(self.d)==4:\n",
        "        #     self.d= ((4 * 3) + (3.7 * 3)+(3.7*3)+(4*3)) / 12\n",
        "        # elif len(self.d)==5:\n",
        "        #     self.d=   ((1.7 * 3) + (1.3* 3)+(1.3*3)+(1.3*3)+(1*3)) / 15\n",
        "        # elif len(self.d)==6:\n",
        "        #     self.d=  ((2 * 3) + (3 * 3)+(3*3)+(2.7*3)+(2.7*3))/18\n",
        "        # print(\"CGPA:\",self.d)    \n",
        "            \n",
        "        if self.total> 3.80:\n",
        "            print(\"Your academic standing is 'Highest\\nDistinction'\")\n",
        "        elif self.total> 3.65:\n",
        "            print(\"Your academic standing is 'Highest\\nDistinction'\")\n",
        "        elif self.total> 3.50:\n",
        "            print(\"Your academic standing is 'Distinction'\") \n",
        "        elif self.total> 2.00: \n",
        "            print(\"Your academic standing is 'Satisfactory'\")   \n",
        "        elif self.total<2.00:\n",
        "            print(\"Sorry, you cannot graduate\")      \n",
        "            \n",
        "s1 = Student('Dora', '15995599','CSE', [4,3.7,3.7,4]) \n",
        "s1.calculate_CGPA() \n",
        "print(\"==========================\") \n",
        "s1.print_details() \n",
        "print(\"==========================\") \n",
        "s2 = Student('Pingu', '12312322', 'EEE', [1.7,1.3,1.3,1.3,1]) \n",
        "s2.calculate_CGPA() \n",
        "print(\"==========================\") \n",
        "s2.print_details() \n",
        "print(\"==========================\")  \n",
        "s3 = Student('Bob', '13311331', 'CSE', [2,3,3,3.7,2.7,2.7]) \n",
        "s3.calculate_CGPA() \n",
        "print(\"==========================\") \n",
        "s3.print_details()"
      ]
    },
    {
      "cell_type": "code",
      "execution_count": 2,
      "metadata": {},
      "outputs": [
        {
          "name": "stdout",
          "output_type": "stream",
          "text": [
            "==========================\n",
            "Name: \"Dora\", ID: 15995599\n",
            "Department: CSE \n",
            "CGPA: 3.85\n",
            "Your academic standing is 'Highest\n",
            "Distinction'\n",
            "==========================\n",
            "==========================\n",
            "Name: \"Pingu\", ID: 12312322\n",
            "Department: EEE \n",
            "CGPA: 1.32\n",
            "Sorry, you cannot graduate\n",
            "==========================\n",
            "==========================\n",
            "Name: \"Bob\", ID: 13311331\n",
            "Department: CSE \n",
            "CGPA: 2.85\n",
            "Your academic standing is 'Satisfactory'\n"
          ]
        }
      ],
      "source": [
        "class Student:\n",
        "    def __init__(self,name,id,sub,cg):\n",
        "        self.a=name\n",
        "        self.b=id\n",
        "        self.c=sub\n",
        "        self.d=cg\n",
        "    def calculate_CGPA(self):\n",
        "        cgpa = 0\n",
        "        for i in self.d:\n",
        "            cgpa+=i*3\n",
        "        self.total=cgpa/len(self.d*3)\n",
        "        if self.total> 3.80:\n",
        "            self.fb=(\"Your academic standing is 'Highest\\nDistinction'\")\n",
        "        elif self.total> 3.65:\n",
        "            self.fb=(\"Your academic standing is 'Highest\\nDistinction'\")\n",
        "        elif self.total> 3.50:\n",
        "            self.fb=(\"Your academic standing is 'Distinction'\") \n",
        "        elif self.total> 2.00: \n",
        "            self.fb=(\"Your academic standing is 'Satisfactory'\")   \n",
        "        elif self.total<2.00:\n",
        "            self.fb=(\"Sorry, you cannot graduate\")     \n",
        "        \n",
        "        # pass      \n",
        "    def print_details(self):    \n",
        "                print(f\"\"\"Name: \"{self.a}\", ID: {self.b}\n",
        "Department: {self.c} \n",
        "CGPA: {self.total}\n",
        "{self.fb}\"\"\")   \n",
        "        # print(f\"Name: {self.a}, ID: {self.b}\")\n",
        "        # print(\"Department:\",self.c) \n",
        "        # # if len(self.d)==4:\n",
        "        #     self.d= ((4 * 3) + (3.7 * 3)+(3.7*3)+(4*3)) / 12\n",
        "        # elif len(self.d)==5:\n",
        "        #     self.d=   ((1.7 * 3) + (1.3* 3)+(1.3*3)+(1.3*3)+(1*3)) / 15\n",
        "        # elif len(self.d)==6:\n",
        "        #     self.d=  ((2 * 3) + (3 * 3)+(3*3)+(2.7*3)+(2.7*3))/18\n",
        "        # print(\"CGPA:\",self.d)    \n",
        "            \n",
        "        \n",
        "            \n",
        "s1 = Student('Dora', '15995599','CSE', [4,3.7,3.7,4]) \n",
        "s1.calculate_CGPA() \n",
        "print(\"==========================\") \n",
        "s1.print_details() \n",
        "print(\"==========================\") \n",
        "s2 = Student('Pingu', '12312322', 'EEE', [1.7,1.3,1.3,1.3,1]) \n",
        "s2.calculate_CGPA() \n",
        "print(\"==========================\") \n",
        "s2.print_details() \n",
        "print(\"==========================\")  \n",
        "s3 = Student('Bob', '13311331', 'CSE', [2,3,3,3.7,2.7,2.7]) \n",
        "s3.calculate_CGPA() \n",
        "print(\"==========================\") \n",
        "s3.print_details()"
      ]
    },
    {
      "cell_type": "code",
      "execution_count": 28,
      "metadata": {
        "colab": {
          "base_uri": "https://localhost:8080/"
        },
        "id": "QSo7J2CDIh3w",
        "outputId": "2db8e54c-b310-40f4-e9fc-ebf8859f8af4"
      },
      "outputs": [
        {
          "name": "stdout",
          "output_type": "stream",
          "text": [
            "Name: Naruto\n",
            "Rank: Genin\n",
            "Number of mission: 5\n",
            "Salary: 0\n",
            "====================\n",
            "Name: Shikamaru\n",
            "Rank: Genin\n",
            "Number of mission: 0\n",
            "Salary: 0\n",
            "Name: Shikamaru\n",
            "Rank: Chunin\n",
            "Number of mission: 10\n",
            "Salary: 0\n",
            "====================\n",
            "Name: Neiji\n",
            "Rank: Jonin\n",
            "Number of mission: 5\n",
            "Salary: 2500\n"
          ]
        }
      ],
      "source": [
        "#8\n",
        "\n",
        "class Shinobi:\n",
        "  def __init__(self,name,rank):\n",
        "      self.name=name\n",
        "      self.rank=rank\n",
        "      self.salary=0\n",
        "      self.mission=0\n",
        "\n",
        "  def changeRank(self,new_rank):\n",
        "    self.rank= new_rank\n",
        "  def calSalary(self,mission):\n",
        "    self.mission = mission\n",
        "\n",
        "    if self.rank ==\"Genin\":\n",
        "      self.salary == self.mission*50\n",
        "\n",
        "    elif self.rank == \"Chunin\":\n",
        "      self.salary == self.mission*100\n",
        "    else:\n",
        "     self.salary =self.mission*500  \n",
        "                \n",
        "  def printInfo(self):\n",
        "    print(\"Name:\",self.name)    \n",
        "    print(\"Rank:\",self.rank)    \n",
        "    print(\"Number of mission:\",self.mission)    \n",
        "    print(\"Salary:\",self.salary)  \n",
        "    \n",
        "naruto = Shinobi(\"Naruto\", \"Genin\")\n",
        "naruto.calSalary(5)\n",
        "naruto.printInfo()\n",
        "print('====================')\n",
        "shikamaru = Shinobi('Shikamaru', \"Genin\")\n",
        "shikamaru.printInfo()\n",
        "shikamaru.changeRank(\"Chunin\")\n",
        "shikamaru.calSalary(10)\n",
        "shikamaru.printInfo()\n",
        "print('====================')\n",
        "neiji = Shinobi(\"Neiji\", \"Jonin\")\n",
        "neiji.calSalary(5)\n",
        "neiji.printInfo()"
      ]
    },
    {
      "cell_type": "code",
      "execution_count": 1,
      "metadata": {
        "id": "bLlsYz4nMI54"
      },
      "outputs": [
        {
          "name": "stdout",
          "output_type": "stream",
          "text": [
            "Horray! A new programmer is born\n",
            "Name: Ethen Hunt\n",
            "Language: Java\n",
            "Experience: 10 years.\n",
            "--------------------------\n",
            "Horray! A new programmer is born\n",
            "Name: James Bond\n",
            "Language: C++\n",
            "Experience: 7 years.\n",
            "--------------------------\n",
            "Horray! A new programmer is born\n",
            "Name: Jon Snow\n",
            "Language: Python\n",
            "Experience: 4 years.\n",
            "Updating experience of Jon Snow\n",
            "Name: Jon Snow\n",
            "Language: Python\n",
            "Experience: 9 years.\n"
          ]
        }
      ],
      "source": [
        "#9 #! p line 14\n",
        "class Programmer:\n",
        "    def __init__ (self,name,lan,exp):\n",
        "        print(\"Horray! A new programmer is born\")\n",
        "      \n",
        "        self.a=name\n",
        "        self.b=lan\n",
        "        self.c=exp\n",
        "        print(\"Name:\",self.a)\n",
        "        print(\"Language:\",self.b)\n",
        "        print(\"Experience:\",self.c,\"years.\")\n",
        "        \n",
        "    def addExp(self,nexp):\n",
        "        # print(\"Updating experience of John snow\")\n",
        "        print(\"Updating experience of\",self.a)\n",
        "        self.x=nexp\n",
        "        # self.c\n",
        "        # pass\n",
        "        # self.d=exp\n",
        "        self.c=self.c +self.x\n",
        "        print(\"Name:\",self.a)\n",
        "        print(\"Language:\",self.b)\n",
        "        print(\"Experience:\",self.c,\"years.\")\n",
        "            \n",
        "\n",
        "    def printDetails(self):\n",
        "        pass\n",
        "        # print(\"Name:\")\n",
        "        # print(\"Language:\")\n",
        "        # print(\"Experience:\")\n",
        "\n",
        "p1 = Programmer(\"Ethen Hunt\", \"Java\", 10) \n",
        "p1.printDetails() \n",
        "print('--------------------------') \n",
        "p2 = Programmer(\"James Bond\", \"C++\", 7) \n",
        "p2.printDetails() \n",
        "print('--------------------------') \n",
        "p3 = Programmer(\"Jon Snow\", \"Python\", 4) \n",
        "p3.printDetails() \n",
        "p3.addExp(5) \n",
        "p3.printDetails()\n"
      ]
    },
    {
      "cell_type": "code",
      "execution_count": 64,
      "metadata": {
        "id": "PaM_g1EzMI3I"
      },
      "outputs": [
        {
          "name": "stdout",
          "output_type": "stream",
          "text": [
            "Shakib, welcome to UberEats!\n",
            "=========================\n",
            "=========================\n",
            "User detais: Name: Shakib, Phone:\n",
            "01719658xxx, Adress:Mohakhali\n",
            "Orders:{'Burger': 220, 'Coca Cola': 50}\n",
            "Total Paid Amount: 270\n",
            "=========================\n",
            "Siam, welcome to UberEats!\n",
            "=========================\n",
            "=========================\n",
            "User detais: Name: Siam, Phone:\n",
            "01719659xxx, Adress:Uttara\n",
            "Orders:{'Pineapple': 80, 'Dairy Milk': 70}\n",
            "Total Paid Amount: 150\n"
          ]
        }
      ],
      "source": [
        "#10\n",
        "class UberEats:\n",
        "    def __init__(self,name,num,place):\n",
        "        self.a=name\n",
        "        self.b=num\n",
        "        self.c=place\n",
        "        self.order={}\n",
        "        print(str(self.a)+\",\"+\" welcome to UberEats!\")\n",
        "        \n",
        "\n",
        "    def add_items(self,i1,i2,p1,p2):\n",
        "        # self.w=i1\n",
        "        # self.x=i2\n",
        "        # self.y=p1\n",
        "        # self.z=p2\n",
        "        self.order[i1]=p1\n",
        "        self.order[i2]=p2\n",
        "        self.ammount=p1+p2\n",
        "        # pass\n",
        "    \n",
        "    def print_order_detail(self):\n",
        "        s=(f\"User detais: Name: {self.a}, Phone:\\n{self.b}, Adress:{self.c}\\nOrders:{self.order}\\nTotal Paid Amount: {self.ammount}\")\n",
        "        return s\n",
        "    #    print(\"User details: \",end=\"\")\n",
        "    #    print(\"Name:\",self.a)\n",
        "    #    print(\"Phone:\",str(self.b)+\",\")\n",
        "    #    print(\"Adress:\",self.c)\n",
        "    # #    dict={self.w,self.y,self.x,self.y}\n",
        "    #    print(\"Orders:\",self.order)\n",
        "    #    print(\"Total Paid Amount:\",self.ammount)\n",
        "    #     # pass  \n",
        "        \n",
        "        \n",
        "        \n",
        "order1 = UberEats(\"Shakib\", \"01719658xxx\", \"Mohakhali\") \n",
        "print(\"=========================\") \n",
        "order1.add_items(\"Burger\", \"Coca Cola\", 220, 50) \n",
        "print(\"=========================\") \n",
        "print(order1.print_order_detail()) \n",
        "print(\"=========================\") \n",
        "order2 = UberEats (\"Siam\", \"01719659xxx\", \"Uttara\") \n",
        "print(\"=========================\") \n",
        "order2.add_items(\"Pineapple\", \"Dairy Milk\", 80, 70) \n",
        "print(\"=========================\") \n",
        "print(order2.print_order_detail())"
      ]
    },
    {
      "cell_type": "code",
      "execution_count": 79,
      "metadata": {},
      "outputs": [
        {
          "name": "stdout",
          "output_type": "stream",
          "text": [
            "Welcome to Spotify!\n",
            "=========================\n",
            "4 number song not found. Your playlist\n",
            "has 3 songs only.\n",
            "##########################\n",
            "Playing 3 song for you\n",
            "Song name: Hello\n",
            "##########################\n",
            "Playing 4 song for you\n",
            "Song name: Dusk Till Dawn\n"
          ]
        }
      ],
      "source": [
        "#11 #! \\\\\n",
        "class Spotify:\n",
        "    def __init__ (self,x):\n",
        "        print(\"Welcome to Spotify!\")\n",
        "        self.x=x\n",
        "        self.all=len(self.x)\n",
        "#add = song total = all x = songs\n",
        "\n",
        "    def add_to_playlist(self,add):\n",
        "        self.x.append(add)\n",
        "        self.all=len(self.x)\n",
        "\n",
        "    def playing_number(self,num):\n",
        "        if len(self.x)<num:\n",
        "            return(f\"{num} number song not found. Your playlist\\nhas {self.all} songs only.\")\n",
        "        else:\n",
        "#          return(f\"\"\"##########################\n",
        "# Playing {num} number song for you\n",
        "# Song name: {self.x[num-1]}\"\"\")\n",
        "            return (f\"##########################\\nPlaying {num} song for you\\nSong name: {self.x[num-1]}\")\n",
        "user1 = Spotify([\"See You Again\", \"Uptown Funk\", \"Hello\"]) \n",
        "print(\"=========================\") \n",
        "print(user1.playing_number(4)) \n",
        "user1.add_to_playlist(\"Dusk Till Dawn\") \n",
        "print(user1.playing_number(3)) \n",
        "print(user1.playing_number(4))\n"
      ]
    },
    {
      "cell_type": "markdown",
      "metadata": {},
      "source": [
        "############################### TRACTING ########################"
      ]
    },
    {
      "cell_type": "code",
      "execution_count": 11,
      "metadata": {},
      "outputs": [
        {
          "name": "stdout",
          "output_type": "stream",
          "text": [
            "18 7 25\n",
            "18 7 25\n",
            "44 11 80\n",
            "55 22 157\n"
          ]
        }
      ],
      "source": [
        "#11\n",
        "class Test: \n",
        "    def __init__(self): \n",
        "        self.sum = 0 \n",
        "        self.y = 0 \n",
        " \n",
        "    def methodA(self): \n",
        "        x=0 \n",
        "        y =0 \n",
        "        y = y + 7 \n",
        "        x = y + 11 \n",
        "        self.sum = x + y \n",
        "        print(x , y, self.sum) \n",
        "   \n",
        "    def methodB(self): \n",
        "        x = 0 \n",
        "        self.y = self.y + 11 \n",
        "        x = x + 33 + self.y \n",
        "        self.sum = self.sum + x + self.y \n",
        "        print(x , self.y, self.sum)\n",
        "t1 = Test() \n",
        "t1.methodA() \n",
        "t1.methodA() \n",
        "t1.methodB() \n",
        "t1.methodB()             "
      ]
    },
    {
      "cell_type": "code",
      "execution_count": 12,
      "metadata": {},
      "outputs": [
        {
          "name": "stdout",
          "output_type": "stream",
          "text": [
            "1 0\n",
            "405 302\n",
            "1 0\n",
            "1 0\n",
            "1209 704\n",
            "1 0\n"
          ]
        },
        {
          "data": {
            "text/plain": [
              "1"
            ]
          },
          "execution_count": 12,
          "metadata": {},
          "output_type": "execute_result"
        }
      ],
      "source": [
        "#12\n",
        "class Scope: \n",
        "    def __init__(self): \n",
        "        self.x, self.y = 1, 100         \n",
        "    def met1(self): \n",
        "        x = 3 \n",
        "        x = self.x + 1 \n",
        "        self.y = self.y + self.x + 1 \n",
        "        x = self.y + self.met2() + self.y #p\n",
        "        print(x, self.y)          \n",
        "    def met2(self): \n",
        "        y = 0 \n",
        "        print(self.x, y) \n",
        "        self.x = self.x + y \n",
        "        self.y = self.y + 200 \n",
        "        return self.x + y\n",
        "q2 = Scope() \n",
        "q2.met1() \n",
        "q2.met2() \n",
        "q2.met1() \n",
        "q2.met2()    "
      ]
    },
    {
      "cell_type": "code",
      "execution_count": 14,
      "metadata": {},
      "outputs": [
        {
          "name": "stdout",
          "output_type": "stream",
          "text": [
            "36 3 39\n",
            "9 3 18\n",
            "36 6 60\n",
            "15 6 30\n",
            "36 9 75\n",
            "21 9 42\n",
            "36 12 90\n",
            "27 12 54\n"
          ]
        }
      ],
      "source": [
        "#14\n",
        "#Task 14 \n",
        "class Test3: \n",
        "    def __init__(self): \n",
        "        self.sum, self.y = 0, 0 \n",
        "    def methodA(self): \n",
        "        x, y = 2, 3 \n",
        "        msg = [0] \n",
        "        msg[0] = 3 \n",
        "        y = self.y + msg[0] \n",
        "        self.methodB(msg, msg[0]) \n",
        "        x = self.y + msg[0] \n",
        "        self.sum = x + y + msg[0] \n",
        "        print(x, y, self.sum) \n",
        "    def methodB(self, mg2, mg1): \n",
        "        x = 0 \n",
        "        self.y = self.y + mg2[0] \n",
        "        x = x + 33 + mg1 \n",
        "        self.sum = self.sum + x + self.y \n",
        "        mg2[0] = self.y + mg1 \n",
        "        mg1 = mg1 + x + 2 \n",
        "        print(x, self.y, self.sum) \n",
        "t3 = Test3() \n",
        "t3.methodA() \n",
        "t3.methodA() \n",
        "t3.methodA() \n",
        "t3.methodA()        "
      ]
    },
    {
      "cell_type": "code",
      "execution_count": 1,
      "metadata": {},
      "outputs": [
        {
          "name": "stdout",
          "output_type": "stream",
          "text": [
            "1 0 0\n",
            "-4 1 1\n",
            "2 1 0\n",
            "-3 3 3\n",
            "4 3 0\n",
            "-1 7 7\n",
            "8 7 0\n",
            "3 15 15\n",
            "16 15 0\n",
            "11 31 31\n"
          ]
        }
      ],
      "source": [
        "#task 15\n",
        "class Test5: \n",
        "    def __init__(self): \n",
        "        self.sum, self.y = 0, 0 \n",
        "    def methodA(self):     \n",
        "        x = 0 \n",
        "        z = 0 \n",
        "        while (z < 5): \n",
        "            self.y = self.y + self.sum \n",
        "            x = self.y + 1 \n",
        "            print(x, self.y, self.sum) \n",
        "            self.sum = self.sum + self.methodB(x, self.y) #!\n",
        "            z += 1 \n",
        "    def methodB(self, m, n): \n",
        "        x = 0 \n",
        "        sum = 0 \n",
        "        self.y = self.y + m \n",
        "        x = n - 4 \n",
        "        sum = sum + self.y \n",
        "        print(x, self.y, sum)\n",
        "        return self.sum\n",
        "t5 = Test5() \n",
        "t5.methodA()    "
      ]
    }
  ],
  "metadata": {
    "colab": {
      "name": "lab3.ipynb",
      "provenance": []
    },
    "kernelspec": {
      "display_name": "Python 3.10.4 64-bit",
      "language": "python",
      "name": "python3"
    },
    "language_info": {
      "codemirror_mode": {
        "name": "ipython",
        "version": 3
      },
      "file_extension": ".py",
      "mimetype": "text/x-python",
      "name": "python",
      "nbconvert_exporter": "python",
      "pygments_lexer": "ipython3",
      "version": "3.10.4"
    },
    "vscode": {
      "interpreter": {
        "hash": "8c3d4d9970fc5c09c50d9318a9c7fbf4d0159e4b28833276f5678ee22bded273"
      }
    }
  },
  "nbformat": 4,
  "nbformat_minor": 0
}
