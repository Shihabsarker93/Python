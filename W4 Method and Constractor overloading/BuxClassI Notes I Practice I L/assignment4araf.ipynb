{
  "cells": [
    {
      "cell_type": "code",
      "execution_count": null,
      "metadata": {
        "colab": {
          "base_uri": "https://localhost:8080/"
        },
        "id": "FAj3ee5w7QcC",
        "outputId": "bbc7b22d-3b7d-4db7-c691-00018dc856e1"
      },
      "outputs": [
        {
          "name": "stdout",
          "output_type": "stream",
          "text": [
            "Hello!\n",
            "Sam, you purchased 3 item(s):\n",
            "chips\n",
            "chocolate\n",
            "orange juice\n",
            "-----------------------------\n",
            "Hello David!\n",
            "David, you purchased 1 item(s):\n",
            "orange juice\n"
          ]
        }
      ],
      "source": [
        "#Task 1\n",
        "\n",
        "class Customer:\n",
        "  def __init__(self,name):\n",
        "    self.name=name\n",
        "\n",
        "  def greet(self,name=None):\n",
        "    if name==None:\n",
        "      print(\"Hello!\")\n",
        "    else:\n",
        "      self.name=name\n",
        "      print(f\"Hello {self.name}!\")\n",
        "  \n",
        "  def purchase(self,*items):\n",
        "    print(f\"{self.name}, you purchased {len(items)} item(s):\")\n",
        "    for i in items:\n",
        "      print(i)\n",
        "\n",
        "\n",
        "customer_1 = Customer(\"Sam\")\n",
        "customer_1.greet()\n",
        "customer_1.purchase(\"chips\", \"chocolate\", \"orange juice\")\n",
        "print(\"-----------------------------\")\n",
        "customer_2 = Customer(\"David\")\n",
        "customer_2.greet(\"David\")\n",
        "customer_2.purchase(\"orange juice\")"
      ]
    },
    {
      "cell_type": "code",
      "execution_count": null,
      "metadata": {
        "colab": {
          "base_uri": "https://localhost:8080/"
        },
        "id": "-OATSCPk_e27",
        "outputId": "8572e720-ef47-44eb-b2be-d6e057f0acf2"
      },
      "outputs": [
        {
          "name": "stdout",
          "output_type": "stream",
          "text": [
            "Kunfu is a Male Panda Bear who is 5 years old\n",
            "Pan Pan is a Female Panda Bear who is 3 years old\n",
            "Ming Ming is a Female Panda Bear who is 8 years old\n",
            "===========================\n",
            "Pan Pan sleeps 10 hours daily and should have Broccoli Chicken\n",
            "Kunfu sleeps 4 hours daily and should have Mixed Veggies\n",
            "Ming Ming's duration is unknown thus should have only bamboo leaves\n"
          ]
        }
      ],
      "source": [
        "#Task 2\n",
        "\n",
        "class Panda:\n",
        "  def __init__(self,name,gender,age):\n",
        "    self.name=name\n",
        "    self.gender=gender\n",
        "    self.age=age\n",
        "  \n",
        "  def sleep(self,sleep_time=None):\n",
        "    if sleep_time==None:\n",
        "      return(f\"{self.name}'s duration is unknown thus should have only bamboo leaves\")\n",
        "    else:\n",
        "      if 3<=sleep_time<=5:\n",
        "        food = \"Mixed Veggies\"\n",
        "      elif 6<=sleep_time<=8:\n",
        "        food = \"Eggplant & Tofu\"\n",
        "      elif 9<=sleep_time<=11:\n",
        "        food = \"Broccoli Chicken\"\n",
        "      return(f\"{self.name} sleeps {sleep_time} hours daily and should have {food}\")\n",
        "\n",
        "panda1 = Panda(\"Kunfu\",\"Male\", 5)\n",
        "panda2=Panda(\"Pan Pan\",\"Female\",3)\n",
        "panda3=Panda(\"Ming Ming\",\"Female\",8)\n",
        "\n",
        "print(\"{} is a {} Panda Bear who is {} years old\".format(panda1.name,panda1.gender,panda1.age))\n",
        "\n",
        "print(\"{} is a {} Panda Bear who is {} years old\".format(panda2.name,panda2.gender,panda2.age))\n",
        "\n",
        "print(\"{} is a {} Panda Bear who is {} years old\".format(panda3.name,panda3.gender,panda3.age))\n",
        "print(\"===========================\")\n",
        "print(panda2.sleep(10))\n",
        "print(panda1.sleep(4))\n",
        "print(panda3.sleep())\n"
      ]
    },
    {
      "cell_type": "code",
      "execution_count": null,
      "metadata": {
        "colab": {
          "base_uri": "https://localhost:8080/"
        },
        "id": "n697IA0UUt5C",
        "outputId": "21e6132e-da26-477f-f8c6-98eeba3ddd49"
      },
      "outputs": [
        {
          "name": "stdout",
          "output_type": "stream",
          "text": [
            "White cat is sitting\n",
            "Black cat is sitting\n",
            "Brown cat is jumping\n",
            "Red cat is purring\n",
            "Blue cat is sitting\n",
            "Purple cat is jumping\n"
          ]
        }
      ],
      "source": [
        "#Task 3\n",
        "\n",
        "class Cat:\n",
        "  def __init__(self, color=\"White\",action=\"sitting\"):\n",
        "    self.color=color\n",
        "    self.action=action\n",
        "\n",
        "  def changeColor(self,color):\n",
        "    self.color=color\n",
        "  \n",
        "  def printCat(self):\n",
        "    print(f\"{self.color} cat is {self.action}\")\n",
        "\n",
        "c1 = Cat()\n",
        "c2 = Cat(\"Black\")\n",
        "c3 = Cat(\"Brown\", \"jumping\")\n",
        "c4 = Cat(\"Red\", \"purring\")\n",
        "c1.printCat()\n",
        "c2.printCat()\n",
        "c3.printCat()\n",
        "c4.printCat()\n",
        "c1.changeColor(\"Blue\")\n",
        "c3.changeColor(\"Purple\")\n",
        "c1.printCat()\n",
        "c3.printCat()"
      ]
    },
    {
      "cell_type": "code",
      "execution_count": null,
      "metadata": {
        "colab": {
          "base_uri": "https://localhost:8080/"
        },
        "id": "4dUULd8rDVdI",
        "outputId": "7a5bfe7b-79af-4dcf-8f5d-eefb31f37714"
      },
      "outputs": [
        {
          "name": "stdout",
          "output_type": "stream",
          "text": [
            "--------------------------------\n",
            "Hello default student\n",
            "Your average quize score is 3.3333333333333335\n",
            "--------------------------------\n",
            "Hello Harry\n",
            "Your average quize score is 6.0\n",
            "--------------------------------\n",
            "Hello Hermione\n",
            "Your average quize score is 9.666666666666666\n"
          ]
        }
      ],
      "source": [
        "#Task 4\n",
        "class Student:\n",
        "  def __init__(self,name=\"default student\"):\n",
        "    self.name=name\n",
        "  \n",
        "  def quizcalc(self,*marks):\n",
        "    total = 0\n",
        "    for i in marks:\n",
        "      total+=i\n",
        "    \n",
        "    self.total=total/3\n",
        "\n",
        "  def printdetail(self):\n",
        "    print(f\"Hello {self.name}\")\n",
        "    print(f\"Your average quize score is {self.total}\")\n",
        "\n",
        "\n",
        "s1 = Student()\n",
        "s1.quizcalc(10)\n",
        "print('--------------------------------')\n",
        "s1.printdetail()\n",
        "s2 = Student('Harry')\n",
        "s2.quizcalc(10,8)\n",
        "print('--------------------------------')\n",
        "s2.printdetail()\n",
        "s3 = Student('Hermione')\n",
        "s3.quizcalc(10,9,10)\n",
        "print('--------------------------------')\n",
        "s3.printdetail() "
      ]
    },
    {
      "cell_type": "code",
      "execution_count": null,
      "metadata": {
        "colab": {
          "base_uri": "https://localhost:8080/"
        },
        "id": "Zu0Vs22iFPr-",
        "outputId": "3164cf18-02f7-4574-8c4c-7b248f6b2c3c"
      },
      "outputs": [
        {
          "name": "stdout",
          "output_type": "stream",
          "text": [
            "Name: Harry Potter\n",
            "ID: 123\n",
            "Department: CSE\n",
            "Daily Effort: 3 hour(s)\n",
            "Suggestion: Keep up the good work!\n",
            "========================\n",
            "Name: John Wick\n",
            "ID: 456\n",
            "Department: BBA\n",
            "Daily Effort: 2 hour(s)\n",
            "Suggestion: Should give more effort!\n",
            "========================\n",
            "Name: Naruto Uzumaki\n",
            "ID: 777\n",
            "Department: Ninja\n",
            "Daily Effort: 6 hour(s)\n",
            "Suggestion: Excellent! Now motivate others.\n"
          ]
        }
      ],
      "source": [
        "#Task 5\n",
        "class Student:\n",
        "  def __init__(self,name,id,department=\"CSE\"):\n",
        "    self.name=name\n",
        "    self.id=id\n",
        "    self.department=department\n",
        "\n",
        "  def dailyEffort(self,hour):\n",
        "    self.hour=hour\n",
        "\n",
        "  \n",
        "  def printDetails(self):\n",
        "    if self.hour <= 2:\n",
        "      sug = ('Suggestion: Should give more effort!')\n",
        "    elif self.hour <= 4:\n",
        "      sug = ('Suggestion: Keep up the good work!')\n",
        "    else:\n",
        "      sug = ('Suggestion: Excellent! Now motivate others.')\n",
        "\n",
        "    print(f\"\"\"Name: {self.name}\n",
        "ID: {self.id}\n",
        "Department: {self.department}\n",
        "Daily Effort: {self.hour} hour(s)\n",
        "{sug}\"\"\")\n",
        "\n",
        "\n",
        "\n",
        "\n",
        "\n",
        "harry = Student('Harry Potter', 123)\n",
        "harry.dailyEffort(3)\n",
        "harry.printDetails()\t\n",
        "print('========================')\n",
        "john = Student(\"John Wick\", 456, \"BBA\")\n",
        "john.dailyEffort(2)\n",
        "john.printDetails()\n",
        "print('========================')\n",
        "naruto = Student(\"Naruto Uzumaki\", 777, \"Ninja\")\n",
        "naruto.dailyEffort(6)\n",
        "naruto.printDetails()"
      ]
    },
    {
      "cell_type": "code",
      "execution_count": null,
      "metadata": {
        "colab": {
          "base_uri": "https://localhost:8080/"
        },
        "id": "L--wW80tUxcx",
        "outputId": "32a01a37-5cc5-4ddd-de25-f0b3c8e04e87"
      },
      "outputs": [
        {
          "name": "stdout",
          "output_type": "stream",
          "text": [
            "=========================\n",
            "Name: Thomas\n",
            "Age: 23\n",
            "Symptoms: Headache\n",
            "=========================\n",
            "Name: Carol\n",
            "Age: 20\n",
            "Symptoms: Vomiting, Coughing\n",
            "=========================\n",
            "Name: Mike\n",
            "Age: 25\n",
            "Symptoms: Fever, Headache, Coughing\n"
          ]
        }
      ],
      "source": [
        "#Task 6\n",
        "\n",
        "class Patient:\n",
        "  def __init__(self,name,age):\n",
        "    self.name=name\n",
        "    self.age=age\n",
        "  \n",
        "  def add_Symptom(self,*symptoms):\n",
        "    self.symptoms=\"\"\n",
        "    for i in symptoms:\n",
        "      for j in i:\n",
        "        self.symptoms+=j\n",
        "      self.symptoms+=\", \"\n",
        "    self.symptoms=self.symptoms[:-2]\n",
        "\n",
        "  def printPatientDetail(self):\n",
        "    print(f\"\"\"Name: {self.name}\n",
        "Age: {self.age}\n",
        "Symptoms: {self.symptoms}\"\"\")\n",
        "    \n",
        "\n",
        "p1 = Patient('Thomas', 23)\n",
        "p1.add_Symptom('Headache')\n",
        "p2 = Patient('Carol', 20)\n",
        "p2.add_Symptom('Vomiting', 'Coughing')\n",
        "p3 = Patient('Mike', 25)\n",
        "p3.add_Symptom(\"Fever\", 'Headache', 'Coughing')\n",
        "print(\"=========================\")\n",
        "p1.printPatientDetail()\n",
        "print(\"=========================\")\n",
        "p2.printPatientDetail()\n",
        "print(\"=========================\")\n",
        "p3.printPatientDetail()\n"
      ]
    },
    {
      "cell_type": "code",
      "execution_count": null,
      "metadata": {
        "colab": {
          "base_uri": "https://localhost:8080/"
        },
        "id": "lFF3QniUUzcZ",
        "outputId": "a53568e8-51b3-4482-c274-b1146659d444"
      },
      "outputs": [
        {
          "name": "stdout",
          "output_type": "stream",
          "text": [
            "=========================\n",
            "Batting Team: Rangpur Riders\n",
            "Bowling Team: Cumilla Victorians\n",
            "Total Runs: 10 Wickets: 0 Overs: 1\n",
            "=========================\n",
            "Warning! Cannot add 5 over/s (5 over match)\n",
            "=========================\n",
            "Batting Team: Rangpur Riders\n",
            "Bowling Team: Cumilla Victorians\n",
            "Total Runs: 10 Wickets: 1 Overs: 1\n"
          ]
        }
      ],
      "source": [
        "#Task 7\n",
        "\n",
        "class Match:\n",
        "  def __init__(self,name):\n",
        "    self.team1,self.team2=tuple(name.split(\"-\"))\n",
        "    self.run=0\n",
        "    self.over=0\n",
        "    self.wicket=0\n",
        "\n",
        "  def add_run(self,run):\n",
        "    self.run+=run\n",
        "  \n",
        "  def add_over(self,over):\n",
        "    if over>=5:\n",
        "      print(f\"Warning! Cannot add {over} over/s (5 over match)\")\n",
        "    else:\n",
        "      self.over+=over\n",
        "\n",
        "  def add_wicket(self,wicket):\n",
        "    self.wicket+=wicket\n",
        "\n",
        "  def print_scoreboard(self):\n",
        "    return(f\"\"\"Batting Team: {self.team1}\n",
        "Bowling Team: {self.team2}\n",
        "Total Runs: {self.run} Wickets: {self.wicket} Overs: {self.over}\"\"\")\n",
        "\n",
        "match1 = Match(\"Rangpur Riders-Cumilla Victorians\")\n",
        "print(\"=========================\")\n",
        "match1.add_run(4)\n",
        "match1.add_run(6)\n",
        "match1.add_over(1)\n",
        "print(match1.print_scoreboard())\n",
        "print(\"=========================\")\n",
        "match1.add_over(5)\n",
        "print(\"=========================\")\n",
        "match1.add_wicket(1)\n",
        "print(match1.print_scoreboard())\n"
      ]
    },
    {
      "cell_type": "code",
      "execution_count": 5,
      "metadata": {
        "colab": {
          "base_uri": "https://localhost:8080/"
        },
        "id": "dTH7VAZ__Saw",
        "outputId": "bdac92a6-c999-4032-bff1-927496320970"
      },
      "outputs": [
        {
          "name": "stdout",
          "output_type": "stream",
          "text": [
            "**********************\n",
            "Customer Name: No name set\n",
            "Product Weight: 0\n",
            "Total fee: 0\n",
            "**********************\n",
            "Customer Name: Bob The Builder\n",
            "Product Weight: 0\n",
            "Total fee: 0\n",
            "----------------------------\n",
            "Customer Name: Bob The Builder\n",
            "Product Weight: 15\n",
            "Total fee: 350\n",
            "**********************\n",
            "Customer Name: Dora The Explorer\n",
            "Product Weight: 10\n",
            "Total fee: 300\n"
          ]
        }
      ],
      "source": [
        "#Task 8\n",
        "class ParcelKoro:\n",
        "  def __init__(self , name = \"No name set\", weight = 0):\n",
        "    self.name=name\n",
        "    self.product_weight=weight\n",
        "\n",
        "  def calculateFee(self,location=None):\n",
        "    if self.product_weight==0:\n",
        "      self.fee=0\n",
        "    else:      \n",
        "      if location==None:\n",
        "        location_c=50\n",
        "      else:\n",
        "        location_c=100\n",
        "\n",
        "      self.fee=(self.product_weight*20)+location_c\n",
        "\n",
        "  def printDetails(self):\n",
        "    print(f\"\"\"Customer Name: {self.name}\n",
        "Product Weight: {self.product_weight}\n",
        "Total fee: {self.fee}\"\"\")\n",
        "    \n",
        "print(\"**********************\")\n",
        "p1 = ParcelKoro()\n",
        "p1.calculateFee()\n",
        "p1.printDetails()\n",
        "print(\"**********************\")\n",
        "p2 = ParcelKoro('Bob The Builder')\n",
        "p2.calculateFee()\n",
        "p2.printDetails()\n",
        "print(\"----------------------------\")\n",
        "p2.product_weight = 15\n",
        "p2.calculateFee()\n",
        "p2.printDetails()\n",
        "print(\"**********************\")\n",
        "p3 = ParcelKoro('Dora The Explorer', 10)\n",
        "p3.calculateFee('Dhanmondi')\n",
        "p3.printDetails()"
      ]
    },
    {
      "cell_type": "code",
      "execution_count": 7,
      "metadata": {
        "colab": {
          "base_uri": "https://localhost:8080/"
        },
        "id": "5L8ID5_BDCEG",
        "outputId": "d3751e4d-76e6-40b6-e00b-5a3d68b5bee5"
      },
      "outputs": [
        {
          "name": "stdout",
          "output_type": "stream",
          "text": [
            "Name: New Batsman\n",
            "Runs Scored: 6101 , Balls Faced: 7380\n",
            "============================\n",
            "Name: Liton Das\n",
            "Runs Scored: 678 , Balls Faced: 773\n",
            "----------------------------\n",
            "87.71021992238033\n",
            "============================\n",
            "Name: Shakib Al Hasan\n",
            "Runs Scored: 6101 , Balls Faced: 7380\n",
            "----------------------------\n",
            "82.66937669376694\n"
          ]
        }
      ],
      "source": [
        "#Task 9\n",
        "class Batsman:\n",
        "  def __init__(self,*args):\n",
        "    if type(args[0])==str:\n",
        "      self.name=args[0]\n",
        "      self.runs=args[1]\n",
        "      self.balls=args[2]\n",
        "    else:\n",
        "      self.name=\"New Batsman\"\n",
        "      self.runs=args[0]\n",
        "      self.balls=args[1]\n",
        "\n",
        "  def battingStrikeRate(self):\n",
        "    return(self.runs/self.balls)*100\n",
        "  def setName(self,name):\n",
        "    self.name=name\n",
        "\n",
        "  def printCareerStatistics(self):\n",
        "    print(f\"\"\"Name: {self.name}\n",
        "Runs Scored: {self.runs} , Balls Faced: {self.balls}\"\"\")\n",
        "    \n",
        "\n",
        "b1 = Batsman(6101, 7380)\n",
        "b1.printCareerStatistics()\n",
        "print(\"============================\")\n",
        "b2 = Batsman(\"Liton Das\", 678, 773)\n",
        "b2.printCareerStatistics()\n",
        "print(\"----------------------------\")\n",
        "print(b2.battingStrikeRate())\n",
        "print(\"============================\")\n",
        "b1.setName(\"Shakib Al Hasan\")\n",
        "b1.printCareerStatistics()\n",
        "print(\"----------------------------\")\n",
        "print(b1.battingStrikeRate())"
      ]
    },
    {
      "cell_type": "code",
      "execution_count": null,
      "metadata": {
        "colab": {
          "base_uri": "https://localhost:8080/"
        },
        "id": "XPB97ddLHYyx",
        "outputId": "728f9a7d-19cf-4dcf-8d01-2bafb7771329"
      },
      "outputs": [
        {
          "name": "stdout",
          "output_type": "stream",
          "text": [
            "===================\n",
            "Name: Manchester United\n",
            "Song: Glory Glory Man United\n",
            "Total NO of title: 0\n",
            "##################\n",
            "Name: Manchester United\n",
            "Song: Glory Glory Man United\n",
            "Total NO of title: 1\n",
            "===================\n",
            "Name: Chelsea\n",
            "Song: No Slogan\n",
            "Total NO of title: 0\n",
            "Name: Chelsea\n",
            "Song: Keep the blue flag flying high\n",
            "Total NO of title: 0\n"
          ]
        }
      ],
      "source": [
        "#Task 10\n",
        "\n",
        "class EPL_Team:\n",
        "  def __init__(self,club,song=\"No Slogan\"):\n",
        "    self.club=club\n",
        "    self.song=song\n",
        "    self.title=0\n",
        "  \n",
        "  def increaseTitle(self):\n",
        "    self.title+=1\n",
        "\n",
        "  def changeSong(self,song):\n",
        "    self.song=song\n",
        "\n",
        "  def showClubInfo(self):\n",
        "    return(f\"\"\"Name: {self.club}\n",
        "Song: {self.song}\n",
        "Total NO of title: {self.title}\"\"\")\n",
        "\n",
        "\n",
        "manu = EPL_Team('Manchester United', 'Glory Glory Man United')\n",
        "chelsea = EPL_Team('Chelsea')\n",
        "print('===================')\n",
        "print(manu.showClubInfo())\n",
        "print('##################')\n",
        "manu.increaseTitle()\n",
        "print(manu.showClubInfo())\n",
        "print('===================')\n",
        "print(chelsea.showClubInfo())\n",
        "chelsea.changeSong('Keep the blue flag flying high')\n",
        "print(chelsea.showClubInfo())\n"
      ]
    },
    {
      "cell_type": "code",
      "execution_count": null,
      "metadata": {
        "colab": {
          "base_uri": "https://localhost:8080/"
        },
        "id": "S8wC_7D-JL_f",
        "outputId": "b3e44ce5-a92d-4098-9132-d230e0b38307"
      },
      "outputs": [
        {
          "name": "stdout",
          "output_type": "stream",
          "text": [
            "Author Name: Humayun Ahmed\n",
            "--------\n",
            "List of Books:\n",
            "Deyal\n",
            "Megher Opor Bari\n",
            "===================\n",
            "Default\n",
            "===================\n",
            "Author Name: Mario Puzo\n",
            "--------\n",
            "List of Books:\n",
            "The Godfather\n",
            "Omerta\n",
            "The Sicilian\n",
            "===================\n",
            "Author Name: Paolo Coelho\n",
            "--------\n",
            "List of Books:\n",
            "The Alchemist\n",
            "The Fifth Mountain\n"
          ]
        }
      ],
      "source": [
        "#Task 11\n",
        "class Author:\n",
        "  def __init__(self,*args):\n",
        "    \n",
        "    if len(args)>0:\n",
        "      self.name=args[0]\n",
        "      self.books=list(args[1:])\n",
        "    \n",
        "    else:\n",
        "      self.name=\"Default\" \n",
        "      self.books=list()\n",
        "    \n",
        "  def addBooks(self,*book):\n",
        "    self.books.extend(book)\n",
        "\n",
        "  def changeName(self,name):\n",
        "    self.name=name\n",
        "  \n",
        "  def printDetails(self):\n",
        "    print(f\"\"\"Author Name: {self.name}\n",
        "--------\n",
        "List of Books:\"\"\")\n",
        "    for i in self.books:\n",
        "      print(i)\n",
        "\n",
        "\n",
        "\n",
        "auth1 = Author('Humayun Ahmed')\n",
        "auth1.addBooks('Deyal', 'Megher Opor Bari')\n",
        "auth1.printDetails()\n",
        "print(\"===================\")\n",
        "auth2 = Author()\n",
        "print(auth2.name)\n",
        "auth2.changeName('Mario Puzo')\n",
        "auth2.addBooks('The Godfather', 'Omerta', 'The Sicilian')\n",
        "print('===================')\n",
        "auth2.printDetails()\n",
        "print('===================')\n",
        "auth3 = Author('Paolo Coelho', 'The Alchemist', 'The Fifth Mountain')\n",
        "auth3.printDetails()\n"
      ]
    },
    {
      "cell_type": "code",
      "execution_count": null,
      "metadata": {},
      "outputs": [],
      "source": []
    },
    {
      "cell_type": "code",
      "execution_count": 1,
      "metadata": {
        "colab": {
          "base_uri": "https://localhost:8080/"
        },
        "id": "p1Yw9-1NFXbW",
        "outputId": "64ebf149-51b5-450e-8e3b-a1ec73def0f3"
      },
      "outputs": [
        {
          "name": "stdout",
          "output_type": "stream",
          "text": [
            "-------------------------------\n",
            "Dear Walker! Welcome to TaxiLagbe.\n",
            "Dear Wood! Welcome to TaxiLagbe.\n",
            "Dear Matt! Welcome to TaxiLagbe.\n",
            "Dear Wilson! Welcome to TaxiLagbe.\n",
            "-------------------------------\n",
            "Trip info for Taxi number: 1010-01\n",
            "This taxi can cover only Dhaka area. \n",
            "Total passengers: 4\n",
            "Passenger lists:\n",
            "Walker, Wood, Matt, Wilson\n",
            "Total collected fare: 505 Taka\n",
            "-------------------------------\n",
            "Taxi Full! No more passengers can be added.\n",
            "-------------------------------\n",
            "Trip info for Taxi number: 1010-01\n",
            "This taxi can cover only Dhaka area. \n",
            "Total passengers: 4\n",
            "Passenger lists:\n",
            "Walker, Wood, Matt, Wilson\n",
            "Total collected fare: 505 Taka\n",
            "-------------------------------\n",
            "Dear Ronald! Welcome to TaxiLagbe.\n",
            "Dear Parker! Welcome to TaxiLagbe.\n",
            "-------------------------------\n",
            "Trip info for Taxi number: 1010-02\n",
            "This taxi can cover only Khulna area. \n",
            "Total passengers: 2\n",
            "Passenger lists:\n",
            "Ronald, Parker\n",
            "Total collected fare: 330 Taka\n"
          ]
        }
      ],
      "source": [
        "#Task 12\n",
        "class TaxiLagbe:\n",
        "  def __init__(self,taxi_number,area):\n",
        "    self.taxi_number=taxi_number\n",
        "    self.area=area\n",
        "    self.passengers=list()\n",
        "    self.fair=0\n",
        "    self.count=0\n",
        "    \n",
        "  def addPassenger(self,*passengers):\n",
        "    for i in passengers:\n",
        "      self.count+=1\n",
        "      x=i.split(\"_\")\n",
        "      if self.count<=4:\n",
        "        self.passengers.append(x[0])\n",
        "        self.fair+=int(x[1])\n",
        "        print(f\"Dear {x[0]}! Welcome to TaxiLagbe.\")\n",
        "\n",
        "    if self.count>4:\n",
        "      print(\"Taxi Full! No more passengers can be added.\")\n",
        "\n",
        "    \n",
        "  def printDetails(self):\n",
        "    print(f\"\"\"Trip info for Taxi number: {self.taxi_number}\n",
        "This taxi can cover only {self.area} area. \n",
        "Total passengers: {len(self.passengers)}\n",
        "Passenger lists:\n",
        "{', '.join(self.passengers)}\n",
        "Total collected fare: {self.fair} Taka\"\"\")\n",
        "\n",
        "\n",
        "\n",
        "taxi1 = TaxiLagbe('1010-01', 'Dhaka')\n",
        "print('-------------------------------')\n",
        "taxi1.addPassenger('Walker_100', 'Wood_200')\n",
        "taxi1.addPassenger('Matt_100')\n",
        "taxi1.addPassenger('Wilson_105')  \n",
        "print('-------------------------------')\n",
        "taxi1.printDetails()\n",
        "print('-------------------------------')\n",
        "taxi1.addPassenger('Karen_200')\n",
        "print('-------------------------------')\n",
        "taxi1.printDetails()\n",
        "print('-------------------------------')\n",
        "taxi2 = TaxiLagbe('1010-02', 'Khulna')\n",
        "taxi2.addPassenger('Ronald_115')\n",
        "taxi2.addPassenger('Parker_215')\n",
        "print('-------------------------------')\n",
        "taxi2.printDetails()"
      ]
    },
    {
      "cell_type": "code",
      "execution_count": null,
      "metadata": {
        "colab": {
          "base_uri": "https://localhost:8080/"
        },
        "id": "MlEw7b0NLrz8",
        "outputId": "8b5b438b-ec5d-48e4-b2c0-99b67d0174c6"
      },
      "outputs": [
        {
          "name": "stdout",
          "output_type": "stream",
          "text": [
            "Default Account\n",
            "0.0\n",
            "------------------------\n",
            "Oliver\n",
            "10000.0\n",
            "------------------------\n",
            "Liam\n",
            "0.0\n",
            "------------------------\n",
            "Noah\n",
            "400\n",
            "------------------------\n",
            "Sorry, Withdraw unsuccessful! The account balance after deducting withdraw amount is equal to or less than minimum.\n",
            "------------------------\n",
            "Sorry, Withdraw unsuccessful! The account balance after deducting withdraw amount is equal to or less than minimum.\n",
            "------------------------\n",
            "Withdraw successful! New balance is: 3071.0\n"
          ]
        }
      ],
      "source": [
        "#Tasl 13\n",
        "\n",
        "class Account:\n",
        "  def __init__(self,name=\"Default Account\", balance=0.0):\n",
        "    self.name=name\n",
        "    self.balance=balance\n",
        "\n",
        "  def details(self):\n",
        "    return(f\"\"\"{self.name}\n",
        "{self.balance}\"\"\")\n",
        "\n",
        "  def withdraw(self,ammount):\n",
        "    new_balance=self.balance-ammount\n",
        "\n",
        "    if new_balance<3071:\n",
        "      print(\"Sorry, Withdraw unsuccessful! The account balance after deducting withdraw amount is equal to or less than minimum.\")\n",
        "    else:\n",
        "      print(\"Withdraw successful! New balance is:\",new_balance)\n",
        "\n",
        "a1 = Account()\n",
        "print(a1.details())\n",
        "print(\"------------------------\")\n",
        "a1.name = \"Oliver\"\n",
        "a1.balance = 10000.0\n",
        "print(a1.details())\n",
        "print(\"------------------------\")\n",
        "a2 = Account(\"Liam\")\n",
        "print(a2.details())\n",
        "print(\"------------------------\")\n",
        "a3 = Account(\"Noah\",400)\n",
        "print(a3.details())\n",
        "print(\"------------------------\")\n",
        "a1.withdraw(6930)\n",
        "print(\"------------------------\")\n",
        "a2.withdraw(600)\n",
        "print(\"------------------------\")\n",
        "a1.withdraw(6929)\n"
      ]
    },
    {
      "cell_type": "code",
      "execution_count": 5,
      "metadata": {
        "colab": {
          "base_uri": "https://localhost:8080/"
        },
        "id": "FKg0KZNVRo6m",
        "outputId": "83dbe700-e45c-489e-d41d-8c2be0ff8b65"
      },
      "outputs": [
        {
          "name": "stdout",
          "output_type": "stream",
          "text": [
            "Grades for Pietro\n",
            "{'Summer2020': {('CSE230', 'CSE220', 'MAT110'): 4.0}, 'Summer2021': {('CSE250', 'CSE330'): 3.85}}\n",
            "------------------------------------------------------\n",
            "Name: Pietro\n",
            "ID: 10101222\n",
            "Courses taken in Summer2020\n",
            "CSE230\n",
            "CSE220\n",
            "MAT110\n",
            "GPA: 4.0\n",
            "Courses taken in Summer2021\n",
            "CSE250\n",
            "CSE330\n",
            "GPA: 3.85\n",
            "------------------------------------------------------\n",
            "Grades for Wanda\n",
            "{'Summer2022': {('CSE111', 'CSE260', 'ENG101'): 3.8000000000000003}}\n",
            "------------------------------------------------------\n",
            "Name: Wanda\n",
            "ID: 10103332\n",
            "Courses taken in Summer2022\n",
            "CSE111\n",
            "CSE260\n",
            "ENG101\n",
            "GPA: 3.8000000000000003\n"
          ]
        }
      ],
      "source": [
        "#Task 14\n",
        "class StudentDatabase:\n",
        "  def __init__(self,name,id):\n",
        "    self.name=name\n",
        "    self.id=id\n",
        "    self.grades=dict()\n",
        "  def calculateGPA(self,result,semester):\n",
        "    self.semester=semester\n",
        "    holy=dict()\n",
        "    courses=list()\n",
        "    cg=0\n",
        "    for i in result:\n",
        "      x=i.split(\": \")\n",
        "      courses.append(x[0])\n",
        "      cg+=float(x[1])*3\n",
        "    \n",
        "    self.grade=cg/(len(courses)*3)\n",
        "    \n",
        "    holy[tuple(courses)]=self.grade\n",
        "    self.grades.update({semester:holy})\n",
        "\n",
        "  def printDetails(self):\n",
        "    print(f\"\"\"Name: {self.name}\n",
        "ID: {self.id}\"\"\")\n",
        "    for k,v in self.grades.items():\n",
        "      print(f\"Courses taken in {k}\")\n",
        "      for a,b in v.items():\n",
        "        print('\\n'.join(a))\n",
        "        # print(a,end=\"/n\")\n",
        "        print(f\"GPA: {b}\")\n",
        "\n",
        "\n",
        "\n",
        "s1 = StudentDatabase('Pietro', '10101222')\n",
        "s1.calculateGPA(['CSE230: 4.0', 'CSE220: 4.0', 'MAT110: 4.0'], 'Summer2020')\n",
        "s1.calculateGPA(['CSE250: 3.7', 'CSE330: 4.0'], 'Summer2021')\n",
        "print(f'Grades for {s1.name}\\n{s1.grades}')\n",
        "print('------------------------------------------------------')\n",
        "s1.printDetails()\n",
        "s2 = StudentDatabase('Wanda', '10103332')\n",
        "s2.calculateGPA(['CSE111: 3.7', 'CSE260: 3.7', 'ENG101: 4.0'], 'Summer2022')\n",
        "print('------------------------------------------------------')\n",
        "print(f'Grades for {s2.name}\\n{s2.grades}')\n",
        "print('------------------------------------------------------')\n",
        "s2.printDetails()"
      ]
    },
    {
      "cell_type": "code",
      "execution_count": null,
      "metadata": {},
      "outputs": [],
      "source": []
    }
  ],
  "metadata": {
    "colab": {
      "collapsed_sections": [],
      "name": "assignment4.ipynb",
      "provenance": []
    },
    "kernelspec": {
      "display_name": "Python 3.10.4 64-bit",
      "language": "python",
      "name": "python3"
    },
    "language_info": {
      "codemirror_mode": {
        "name": "ipython",
        "version": 3
      },
      "file_extension": ".py",
      "mimetype": "text/x-python",
      "name": "python",
      "nbconvert_exporter": "python",
      "pygments_lexer": "ipython3",
      "version": "3.10.4"
    },
    "vscode": {
      "interpreter": {
        "hash": "8c3d4d9970fc5c09c50d9318a9c7fbf4d0159e4b28833276f5678ee22bded273"
      }
    }
  },
  "nbformat": 4,
  "nbformat_minor": 0
}
