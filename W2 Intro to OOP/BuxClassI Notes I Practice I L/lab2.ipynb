{
  "cells": [
    {
      "cell_type": "code",
      "execution_count": null,
      "metadata": {
        "id": "EA5EP7jizceW"
      },
      "outputs": [],
      "source": [
        "\n",
        "class student:\n",
        "  def __init__ (self,naam):\n",
        "    self.name = naam\n",
        "\n",
        "s1= student(\"Bob\")\n",
        "s2=    \n"
      ]
    },
    {
      "cell_type": "code",
      "execution_count": null,
      "metadata": {
        "id": "BhO1xUNgzffs"
      },
      "outputs": [],
      "source": [
        "\n",
        "data_type1 = DataType(‘Integer’, 1234)\n",
        "print(data_type1.name)\n",
        "print(data_type1.value)\n",
        "print('=====================')\n",
        "data_type2 = DataType(‘String’, ‘Hello’)\n",
        "print(data_type2.name)\n",
        "print(data_type2.value)\n",
        "print('=====================')\n",
        "data_type3 = DataType(‘Float’, 4.0)\n",
        "print(data_type3.name)\n",
        "print(data_type3.value)"
      ]
    },
    {
      "cell_type": "code",
      "execution_count": 77,
      "metadata": {
        "colab": {
          "base_uri": "https://localhost:8080/"
        },
        "id": "gZT89kHwzfZc",
        "outputId": "3ce4a7db-ce56-4c06-96c1-f294f7b652d1"
      },
      "outputs": [
        {
          "name": "stdout",
          "output_type": "stream",
          "text": [
            "Integer\n",
            "1234\n",
            "=====================\n",
            "String\n",
            "Hello\n",
            "=====================\n",
            "Float\n",
            "4.0\n",
            "=====================\n"
          ]
        }
      ],
      "source": [
        "#1\n",
        "class DataType:\n",
        "  def __init__ (self,name,value):\n",
        "    self.name=name\n",
        "    self.value=value\n",
        "data_type1 = DataType(\"Integer\", 1234)\n",
        "print(data_type1.name)\n",
        "print(data_type1.value) \n",
        "print('=====================')\n",
        "\n",
        "data_type2 = DataType(\"String\",\"Hello\")\n",
        "print(data_type2.name)\n",
        "print(data_type2.value)\n",
        "print('=====================')\n",
        "data_type3 = DataType(\"Float\", 4.0)\n",
        "print(data_type3.name)\n",
        "print(data_type3.value)\n",
        "print('=====================')"
      ]
    },
    {
      "cell_type": "code",
      "execution_count": null,
      "metadata": {
        "colab": {
          "base_uri": "https://localhost:8080/"
        },
        "id": "NNwuXfn23JHH",
        "outputId": "8ba55f2c-e030-4020-9c27-b09e484b5442"
      },
      "outputs": [],
      "source": [
        "#1 test\n",
        "class DataType:\n",
        "  def __init__ (self,name,value):\n",
        "    self.x=name\n",
        "    self.y=value\n",
        "data_type1 = DataType(\"Integer\", 1234)\n",
        "print(data_type1.x)\n",
        "print(data_type1.y) \n",
        "print('=====================')\n",
        "\n",
        "data_type2 = DataType(\"String\",\"Hello\")\n",
        "print(data_type2.x)\n",
        "print(data_type2.y)\n",
        "print('=====================')\n",
        "data_type3 = DataType(\"Float\", 4.0)\n",
        "print(data_type3.x)\n",
        "print(data_type3.y)\n",
        "print('=====================')"
      ]
    },
    {
      "cell_type": "code",
      "execution_count": null,
      "metadata": {
        "colab": {
          "base_uri": "https://localhost:8080/"
        },
        "id": "f0RlfxVqzfPt",
        "outputId": "95b722d7-6e40-4909-911f-7c331d9768c9"
      },
      "outputs": [],
      "source": [
        "class data_type2:\n",
        "  def __init__(self,name,value):\n",
        "    self.name = name\n",
        "    value.name=value\n",
        "\n",
        "\n",
        "\n",
        "data_type2 = DataType(\"String\",\"Hello\")\n",
        "print(data_type2.name)\n",
        "print(data_type2.value)"
      ]
    },
    {
      "cell_type": "code",
      "execution_count": null,
      "metadata": {
        "colab": {
          "base_uri": "https://localhost:8080/"
        },
        "id": "DbPp9N8e4FHv",
        "outputId": "961aac5d-e950-4ed4-b424-acb97ede8da7"
      },
      "outputs": [],
      "source": [
        "class data_type3:\n",
        "  def __init__(self,name,value):\n",
        "    self.name = name\n",
        "    value.name=value\n",
        "data_type3 = DataType(\"Float\", 4.0)\n",
        "print(data_type3.name)\n",
        "print(data_type3.value)"
      ]
    },
    {
      "cell_type": "code",
      "execution_count": 81,
      "metadata": {
        "colab": {
          "base_uri": "https://localhost:8080/"
        },
        "id": "d_DPjpIF4Q6I",
        "outputId": "60bf2fff-e39b-404b-cae6-122c9762aecc"
      },
      "outputs": [
        {
          "name": "stdout",
          "output_type": "stream",
          "text": [
            "Name of this flower: Rose\n",
            "Color of this flower: Red\n",
            "Number of petal: 6\n",
            "=====================\n",
            "Name of this flower: Orchid\n",
            "Color of this flower: Purple\n",
            "Number of petal: 4\n",
            "<__main__.Flower object at 0x0000022B655C1B70>\n",
            "<__main__.Flower object at 0x0000022B6664E560>\n",
            "they are different\n"
          ]
        }
      ],
      "source": [
        "\n",
        "\n",
        "#2\n",
        "class Flower:\n",
        "  def __init__(self):#2 no parameter thats why default argument\n",
        "    self.name=\"default\" #jekono kisu dwa jabe e.g. None \n",
        "    self.color=\"default\"\n",
        "    self.num_of_petal=0\n",
        "\n",
        "\n",
        "flower1 = Flower() #1no parameter\n",
        "flower1.name=\"Rose\"\n",
        "flower1.color=\"Red\"\n",
        "flower1.num_of_petal=6\n",
        "print(\"Name of this flower:\", flower1.name)\n",
        "print(\"Color of this flower:\",flower1.color)\n",
        "print(\"Number of petal:\",flower1.num_of_petal)\n",
        "print(\"=====================\")\n",
        "flower2 = Flower()\n",
        "flower2.name=\"Orchid\"\n",
        "flower2.color=\"Purple\"\n",
        "flower2.num_of_petal=4\n",
        "print(\"Name of this flower:\",flower2.name)\n",
        "print(\"Color of this flower:\",flower2.color)\n",
        "print (\"Number of petal:\",flower2. num_of_petal)\n",
        "print(flower1)\n",
        "print(flower2)\n",
        "print(\"they are different\")"
      ]
    },
    {
      "cell_type": "code",
      "execution_count": 82,
      "metadata": {
        "colab": {
          "base_uri": "https://localhost:8080/"
        },
        "id": "A5BqvFFa8J7y",
        "outputId": "a28d077f-1146-4c7e-872e-1f3e2ca7a208"
      },
      "outputs": [
        {
          "name": "stdout",
          "output_type": "stream",
          "text": [
            "Heath Ledger\n",
            "Mind Game\n",
            "False\n",
            "=====================\n",
            "Joaquin Phoenix\n",
            "Laughing out Loud\n",
            "True\n",
            "=====================\n",
            "different\n",
            "same\n"
          ]
        }
      ],
      "source": [
        "#3\n",
        "class Joker:\n",
        "  def __init__(self,name,power,is_he_psycho):\n",
        "    self.name=name\n",
        "    self.power=power\n",
        "    self.is_he_psycho=is_he_psycho\n",
        "\n",
        "\n",
        "\n",
        "\n",
        "\n",
        "\n",
        "\n",
        "j1 = Joker('Heath Ledger', 'Mind Game', False)\n",
        "print(j1.name)\n",
        "print(j1.power)\n",
        "print(j1.is_he_psycho)\n",
        "print(\"=====================\")\n",
        "j2 = Joker('Joaquin Phoenix', 'Laughing out Loud', True)\n",
        "print(j2.name)\n",
        "print(j2.power)\n",
        "print(j2.is_he_psycho)\n",
        "print(\"=====================\")\n",
        "if j1 == j2:\n",
        "  print('same')\n",
        "else:\n",
        "  print('different')\n",
        "j2.name = 'Heath Ledger'\n",
        "if j1.name == j2.name: \n",
        "  print('same')\n",
        "else:\n",
        "  print('different')"
      ]
    },
    {
      "cell_type": "code",
      "execution_count": 86,
      "metadata": {
        "colab": {
          "base_uri": "https://localhost:8080/"
        },
        "id": "RHLL_QML_iK4",
        "outputId": "f14bf57a-f417-4c89-ff46-530452a492b4"
      },
      "outputs": [
        {
          "name": "stdout",
          "output_type": "stream",
          "text": [
            "=======Team 1=======\n",
            "Pokemon 1: pikachu 90\n",
            "Pokemon 2: charmander 60\n",
            "Combined Power: 1500\n",
            "=======Team 2=======\n",
            "Pokemon 1: bulbasaur 80\n",
            "Pokemon 2: squirtle 70\n",
            "Combined Power: 1350\n"
          ]
        }
      ],
      "source": [
        "#4\n",
        "\n",
        "class Pokemon:\n",
        "  def __init__ (self,pokemon1_name,pokemon2_name,pokemon1_power,pokemon2_power,damage_rate):\n",
        "    self.pokemon1_name=pokemon1_name\n",
        "    self.pokemon1_power=pokemon1_power\n",
        "    self.pokemon2_name=pokemon2_name\n",
        "    self.pokemon2_power=pokemon2_power\n",
        "    self.damage_rate= damage_rate\n",
        "\n",
        "team_pika = Pokemon('pikachu', 'charmander', 90, 60, 10)\n",
        "print('=======Team 1=======')\n",
        "print('Pokemon 1:',team_pika.pokemon1_name,\n",
        "team_pika.pokemon1_power)\n",
        "print('Pokemon 2:',team_pika.pokemon2_name,\n",
        "team_pika.pokemon2_power)\n",
        "pika_combined_power = (team_pika.pokemon1_power +team_pika.pokemon2_power) * team_pika.damage_rate\n",
        "print('Combined Power:', pika_combined_power)\n",
        "\n",
        "# class Pokemon:\n",
        "#   def __init__ (sself,pokemon1_name,pokemon2_name,pokemon1_power,pokemon2_power,damage_rate): #! pagool naki vai? etakw kore?\n",
        "\n",
        "\n",
        "\n",
        "team_bulb=Pokemon(\"bulbasaur\", \"squirtle\", 80, 70,9)\n",
        "print('=======Team 2=======')\n",
        "print('Pokemon 1:',team_bulb.pokemon1_name,\n",
        "team_bulb.pokemon1_power)\n",
        "print('Pokemon 2:',team_bulb.pokemon2_name,\n",
        "team_bulb.pokemon2_power)\n",
        "pika_combined_power = ((team_bulb.pokemon1_power + team_bulb.pokemon2_power) \n",
        "*team_bulb.damage_rate)\n",
        "print('Combined Power:', pika_combined_power)"
      ]
    },
    {
      "cell_type": "code",
      "execution_count": null,
      "metadata": {
        "id": "dNHt6MYjVo0B"
      },
      "outputs": [],
      "source": [
        "#5\n",
        "\n",
        "class Player:\n",
        "    def __init__ (self):\n",
        "        self.name=\"x\"\n",
        "        self.jersy_number = 0\n",
        "        self.position = \"y\"\n",
        "    \n",
        "\n",
        "\n",
        "player1 = Player() \n",
        "player1.name = \"Ronaldo\" \n",
        "player1.jersy_number = 9 \n",
        "player1.position = \"Striker\" \n",
        "print(\"Name of the Player:\", player1.name) \n",
        "print(\"Jersey Number of player:\", player1.jersy_number) \n",
        "print(\"Position of player:\", player1.position) \n",
        "print(\"===========================\") \n",
        "player2 = Player() \n",
        "player2.name = \"Neuer\" \n",
        "player2.jersy_number = 1 \n",
        "player2.position = \"Goal Keeper\" \n",
        "print(\"Name of the player:\", player2.name) \n",
        "print(\"Jersey Number of player:\", player2.jersy_number) \n",
        "print(\"Position of player:\", player2.position) "
      ]
    },
    {
      "cell_type": "code",
      "execution_count": 87,
      "metadata": {
        "id": "TUnRQiZBVoV7"
      },
      "outputs": [
        {
          "name": "stdout",
          "output_type": "stream",
          "text": [
            "Name: Bangladesh\n",
            "Continent: Asia\n",
            "Capital: Dhaka\n",
            "Fifa Ranking: 187\n",
            "===================\n",
            "Name: Belgium\n",
            "Continent: Europe\n",
            "Capital: Brussels\n",
            "Fifa Ranking: 1\n"
          ]
        }
      ],
      "source": [
        "#recap\n",
        "class Country:\n",
        "    def __init__(self):\n",
        "        self.name=\"Bangladesh\"\n",
        "        self.continent=\"Asia\"\n",
        "        self.capital = \"Dhaka\"\n",
        "        self.fifa_ranking= 187\n",
        "\n",
        "\n",
        "\n",
        "\n",
        "\n",
        "country = Country() \n",
        "print('Name:',country.name) \n",
        "print('Continent:',country.continent) \n",
        "print('Capital:',country.capital) \n",
        "print('Fifa Ranking:',country.fifa_ranking) \n",
        "print('===================') \n",
        "country.name = 'Belgium' \n",
        "country.continent = 'Europe' \n",
        "country.capital = 'Brussels' \n",
        "country.fifa_ranking = 1 \n",
        "print('Name:',country.name) \n",
        "print('Continent:',country.continent) \n",
        "print('Capital:',country.capital) \n",
        "print('Fifa Ranking:',country.fifa_ranking)"
      ]
    },
    {
      "cell_type": "code",
      "execution_count": 88,
      "metadata": {
        "colab": {
          "base_uri": "https://localhost:8080/"
        },
        "id": "gJaFgJ_8C3jJ",
        "outputId": "72fa1db1-a974-4974-ee64-6e6d4ced9b00"
      },
      "outputs": [
        {
          "name": "stdout",
          "output_type": "stream",
          "text": [
            "Name: Bangladesh\n",
            "Continent: Asia\n",
            "Capital: Dhaka\n",
            "Fifa Ranking: 187\n",
            "===================\n",
            "Name: Belgium\n",
            "Continent: Europe\n",
            "Capital: Brussels\n",
            "Fifa Ranking: 1\n"
          ]
        }
      ],
      "source": [
        "#6\n",
        "class Country:\n",
        "  # def __init__ (self,name,continent,capital,fifa_ranking):\n",
        "  def __init__ (self):\n",
        "    self.name=\"Bangladesh\"\n",
        "    self.continent=\"Asia\"\n",
        "    self.capital=\"Dhaka\"\n",
        "    self.fifa_ranking=\"187\"\n",
        "\n",
        "\n",
        "country = Country()\n",
        "print('Name:',country.name)\n",
        "print('Continent:',country.continent)\n",
        "print('Capital:',country.capital)\n",
        "print('Fifa Ranking:',country.fifa_ranking)\n",
        "print('===================')\n",
        "country.name = \"Belgium\"\n",
        "country.continent =\"Europe\"\n",
        "country.capital = \"Brussels\"\n",
        "country.fifa_ranking = 1\n",
        "print('Name:',country.name)\n",
        "print('Continent:',country.continent)\n",
        "print('Capital:',country.capital)\n",
        "print('Fifa Ranking:',country.fifa_ranking)"
      ]
    },
    {
      "cell_type": "code",
      "execution_count": 89,
      "metadata": {
        "colab": {
          "base_uri": "https://localhost:8080/"
        },
        "id": "FOvthWfOG8D0",
        "outputId": "cbf8fde6-df86-4072-e6f0-4817f466219d"
      },
      "outputs": [
        {
          "name": "stdout",
          "output_type": "stream",
          "text": [
            "Name: Tanjiro\n",
            "Fighting Style: Water Breathing\n",
            "Knows 10 technique(s) and has killed 10 demon(s)\n",
            "===================\n",
            "Name: Zenitsu\n",
            "Fighting Style: Thunder Breathing\n",
            "Knows 1 technique(s) and has killed 4 demon(s)\n",
            "===================\n",
            "Name: Inosuke\n",
            "Fighting Style: Beast Breathing\n",
            "Knows 5 technique(s) and has killed 7 demon(s)\n",
            "===================\n",
            "Tanjiro, Zenitsu, Inosuke knows total 16 techniques\n",
            "They have killed total 21 demons\n"
          ]
        }
      ],
      "source": [
        "#7\n",
        "class DemonSlayer:\n",
        "  def __init__ (self,name,style,number_of_technique,kill):\n",
        "    self.name=name\n",
        "    self.style=style\n",
        "    self.number_of_technique=number_of_technique\n",
        "    self.kill=kill\n",
        "\n",
        "tanjiro = DemonSlayer(\"Tanjiro\", \"Water Breathing\", 10, 10)\n",
        "print('Name:',tanjiro.name)\n",
        "print('Fighting Style:',tanjiro.style)\n",
        "print(f'Knows {tanjiro.number_of_technique} technique(s) and has killed {tanjiro.kill} demon(s)')\n",
        "print('===================')\n",
        "zenitsu = DemonSlayer(\"Zenitsu\", \"Thunder Breathing\", 1, 4)\n",
        "print('Name:',zenitsu.name)\n",
        "print('Fighting Style:',zenitsu.style)\n",
        "print(f'Knows {zenitsu.number_of_technique} technique(s) and has killed {zenitsu.kill} demon(s)')\n",
        "print('===================')\n",
        "inosuke = DemonSlayer(\"Inosuke\", \"Beast Breathing\", 5, 7)\n",
        "print('Name:',inosuke.name)\n",
        "print('Fighting Style:',inosuke.style)\n",
        "print(f'Knows {inosuke.number_of_technique} technique(s) and has killed {inosuke.kill} demon(s)')\n",
        "print('===================')\n",
        "print(f'{tanjiro.name}, {zenitsu.name}, {inosuke.name} knows total {tanjiro.number_of_technique + zenitsu.number_of_technique + inosuke.number_of_technique} techniques')\n",
        "print(f'They have killed total {tanjiro.kill + zenitsu.kill + inosuke.kill} demons')"
      ]
    },
    {
      "cell_type": "code",
      "execution_count": 90,
      "metadata": {},
      "outputs": [
        {
          "name": "stdout",
          "output_type": "stream",
          "text": [
            "Box 1\n",
            "Creating a box!\n",
            "Volume of the box is 1000 cubic units.\n",
            "=========================\n",
            "Height: 10\n",
            "Width: 10\n",
            "Breadth: 10\n",
            "-------------------------\n",
            "Box 2\n",
            "Creating a box!\n",
            "Volume of the box is 3000 cubic units.\n",
            "=========================\n",
            "Height: 30\n",
            "Width: 10\n",
            "Breadth: 10\n",
            "Updating Box 2!\n",
            "Height: 300\n",
            "Width: 10\n",
            "Breadth: 10\n",
            "-------------------------\n",
            "Box 3\n",
            "Height: 300\n",
            "Width: 10\n",
            "Breadth: 10\n"
          ]
        }
      ],
      "source": [
        "#8\n",
        "class box:\n",
        "    def __init__ (self,x):\n",
        "        # for i in x:\n",
        "        # print('Creating a box!')   \n",
        "        # print(f\"Volume of the box is {(x[0]*x[1]*x[2])} cubic units.\")\n",
        "        self.height=x[0]\n",
        "        self.width=x[1]\n",
        "        self.breadth=x[2]\n",
        "        print('Creating a box!')   \n",
        "        print(f\"Volume of the box is {(x[0]*x[1]*x[2])} cubic units.\")\n",
        "        # print(\"Volume of the box is 3000 cubic units.\",(x[0]*x[1]*x[2]))\n",
        "        # print(f\"Volume of the box is {(x[0]*x[1]*x[2])} cubic units.\")\n",
        "        \n",
        "print(\"Box 1\") \n",
        "b1 = box([10,10,10]) \n",
        "print(\"=========================\") \n",
        "print(\"Height:\", b1.height) \n",
        "print(\"Width:\", b1.width) \n",
        "print(\"Breadth:\", b1.breadth) \n",
        "print(\"-------------------------\") \n",
        "print(\"Box 2\") \n",
        "b2 = box((30,10,10)) \n",
        "print(\"=========================\") \n",
        "print(\"Height:\", b2.height) \n",
        "print(\"Width:\", b2.width) \n",
        "print(\"Breadth:\", b2.breadth) \n",
        "b2.height = 300 \n",
        "print(\"Updating Box 2!\") \n",
        "print(\"Height:\", b2.height) \n",
        "print(\"Width:\", b2.width) \n",
        "print(\"Breadth:\", b2.breadth) \n",
        "print(\"-------------------------\") \n",
        "print(\"Box 3\") \n",
        "b3 = b2 \n",
        "print(\"Height:\", b3.height) \n",
        "print(\"Width:\", b3.width) \n",
        "print(\"Breadth:\", b3.breadth)"
      ]
    },
    {
      "cell_type": "code",
      "execution_count": 96,
      "metadata": {},
      "outputs": [
        {
          "name": "stdout",
          "output_type": "stream",
          "text": [
            "CANCEL Button Specifications:\n",
            "Button name: CANCEL\n",
            "Number of the border characters for the top and the bottom: 28\n",
            "Number of spaces between the left side border and the first character of the button\n",
            "name: 10\n",
            "Number of spaces between the right side border and the last character of the button\n",
            "name: 10\n",
            "Characters representing the borders: x\n",
            "\n",
            "xxxxxxxxxxxxxxxxxxxxxxxxxxxx\n",
            "x          CANCEL          x\n",
            "xxxxxxxxxxxxxxxxxxxxxxxxxxxx\n",
            "=======================================================\n",
            "Notify Button Specifications:\n",
            "Button name: Notify\n",
            "Number of the border characters for the top and the bottom: 14\n",
            "Number of spaces between the left side border and the first character of the button\n",
            "name: 3\n",
            "Number of spaces between the right side border and the last character of the button\n",
            "name: 3\n",
            "Characters representing the borders: !\n",
            "\n",
            "!!!!!!!!!!!!!!\n",
            "!   Notify   !\n",
            "!!!!!!!!!!!!!!\n",
            "=======================================================\n",
            "SAVE PROGRESS Button Specifications:\n",
            "Button name: SAVE PROGRESS\n",
            "Number of the border characters for the top and the bottom: 25\n",
            "Number of spaces between the left side border and the first character of the button\n",
            "name: 5\n",
            "Number of spaces between the right side border and the last character of the button\n",
            "name: 5\n",
            "Characters representing the borders: $\n",
            "\n",
            "$$$$$$$$$$$$$$$$$$$$$$$$$\n",
            "$     SAVE PROGRESS     $\n",
            "$$$$$$$$$$$$$$$$$$$$$$$$$\n"
          ]
        }
      ],
      "source": [
        "#9\n",
        "class buttons:\n",
        "    def __init__ (self,word, spaces, border):\n",
        "        self.word=\"CANCLE\"\n",
        "        self.spaces=0\n",
        "        self.border=\"x\"\n",
        "        print(f\"{word} Button Specifications:\")\n",
        "        print(f\"Button name: {word}\")\n",
        "        count_=1+spaces+len(word)+spaces+1\n",
        "        print(\"Number of the border characters for the top and the bottom:\",count_)\n",
        "        print(\"Number of spaces between the left side border and the first character of the button\") \n",
        "        print(\"name:\",spaces)\n",
        "        print(\"Number of spaces between the right side border and the last character of the button\")\n",
        "        print(\"name:\",spaces)\n",
        "        print(\"Characters representing the borders:\",border)\n",
        "        print()        \n",
        "        print(count_*border)\n",
        "        print(border+spaces*\" \"+word+spaces*\" \"+border)\n",
        "        print(count_*border)\n",
        "\n",
        "\n",
        "\n",
        "\n",
        "word = \"CANCEL\"   \n",
        "spaces = 10 \n",
        "border = 'x' \n",
        "b1 = buttons(word, spaces, border) \n",
        "print(\"=======================================================\") \n",
        "b2 = buttons(\"Notify\",3, '!') \n",
        "print(\"=======================================================\") \n",
        "b3 = buttons('SAVE PROGRESS', 5, '$')"
      ]
    },
    {
      "cell_type": "code",
      "execution_count": 99,
      "metadata": {},
      "outputs": [
        {
          "name": "stdout",
          "output_type": "stream",
          "text": [
            "Part 1:\n",
            "Name of President: Aladeen\n",
            "Designation: President Prime Minister Admiral General\n",
            "Number of wife: 100\n",
            "Is he/she a dictator: True\n",
            "Part 2:\n",
            "Name of President: Donald Trump\n",
            "Designation: President\n",
            "Number of wife: 1\n",
            "Is he/she a dictator: False\n",
            "No, changing had to effect on previous value\n"
          ]
        }
      ],
      "source": [
        "#10\n",
        "\n",
        "class Wadiya(): \n",
        " def __init__(self): \n",
        "   self.name = 'Aladeen' \n",
        "   self.designation = 'President Prime Minister Admiral General' \n",
        "   self.num_of_wife = 100 \n",
        "   self.dictator = True\n",
        "   \n",
        "  \n",
        "wadiya=Wadiya()\n",
        "print(\"Part 1:\")\n",
        "wadiya.name = 'Aladeen' \n",
        "wadiya.designation = 'President Prime Minister Admiral General' \n",
        "wadiya.num_of_wife = 100 \n",
        "wadiya.dictator = True\n",
        "print(\"Name of President:\",wadiya.name)\n",
        "print(\"Designation:\",wadiya.designation)\n",
        "print(\"Number of wife:\",wadiya.num_of_wife)\n",
        "print(\"Is he/she a dictator:\",wadiya.dictator)\n",
        "print(\"Part 2:\")\n",
        "wadiya.name =\"Donald Trump\"\n",
        "wadiya.designation = 'President' \n",
        "wadiya.num_of_wife = 1\n",
        "wadiya.dictator = False\n",
        "print(\"Name of President:\",wadiya.name)\n",
        "print(\"Designation:\",wadiya.designation)\n",
        "print(\"Number of wife:\",wadiya.num_of_wife)\n",
        "print(\"Is he/she a dictator:\",wadiya.dictator)\n",
        "print(\"No, changing had to effect on previous value\")"
      ]
    },
    {
      "cell_type": "code",
      "execution_count": null,
      "metadata": {},
      "outputs": [],
      "source": []
    },
    {
      "cell_type": "markdown",
      "metadata": {},
      "source": [
        "##########################                         TRACING     #########################"
      ]
    },
    {
      "cell_type": "code",
      "execution_count": null,
      "metadata": {
        "id": "jv90ec1AQOD-"
      },
      "outputs": [],
      "source": [
        "class Human: \n",
        "     def __init__(self):  \n",
        "         self.age = 0  \n",
        "         self.height = 0.0  \n",
        "   \n",
        "h1 = Human()  \n",
        "h2 = Human()  \n",
        "h1.age = 21  \n",
        "h1.height = 5.5  \n",
        "print(h1.age)  \n",
        "print(h1.height)  \n",
        "h2.height = h1.height - 3  \n",
        "print(h2.height)  \n",
        "h2.age = h1.age  \n",
        "h1.age += h1.age  \n",
        "print(h1.age)  \n",
        "h2 = h1  #\n",
        "print(h2.age)  \n",
        "print(h2.height)  \n",
        "h1.age += h1.age  \n",
        "h2.height += h2.height  \n",
        "print(h1.age)  \n",
        "print(h1.height)  \n",
        "h2.age += h2.age  \n",
        "h1.age = h2.age  \n",
        "print(h2.age)"
      ]
    },
    {
      "cell_type": "code",
      "execution_count": 100,
      "metadata": {},
      "outputs": [
        {
          "name": "stdout",
          "output_type": "stream",
          "text": [
            "New Student\n",
            "Student Two\n",
            "New Student\n",
            "2.3\n",
            "3.3\n",
            "2.3\n",
            "old student\n",
            "oldest student\n",
            "oldest student\n",
            "2.3\n",
            "3.5\n",
            "3.5\n"
          ]
        }
      ],
      "source": [
        "class Student:\n",
        "    \n",
        "    \n",
        "    def __init__(self):\n",
        "        self.name = None  \n",
        "        self.cgpa = 0.0 \n",
        "        \n",
        "    \n",
        "        \n",
        "s1 = Student()  \n",
        "s2 = Student()  \n",
        "s3 = None  \n",
        "s1.name = \"Student One\"  \n",
        "s1.cgpa = 2.3  \n",
        "s3 = s1  \n",
        "s2.name = \"Student Two\"  \n",
        "s2.cgpa = s3.cgpa + 1  \n",
        "s3.name = \"New Student\"  \n",
        "print(s1.name)  \n",
        "print(s2.name)  \n",
        "print(s3.name)  \n",
        "print(s1.cgpa)  \n",
        "print(s2.cgpa)  \n",
        "print(s3.cgpa)  \n",
        "s3 = s2  \n",
        "s1.name = \"old student\"  \n",
        "s2.name = \"older student\"  \n",
        "s3.name = \"oldest student\"  \n",
        "s2.cgpa = s1.cgpa - s3.cgpa + 4.5  \n",
        "print(s1.name)  \n",
        "print(s2.name)  \n",
        "print(s3.name)  \n",
        "print(s1.cgpa)  \n",
        "print(s2.cgpa)  \n",
        "print(s3.cgpa)"
      ]
    },
    {
      "cell_type": "code",
      "execution_count": 101,
      "metadata": {},
      "outputs": [
        {
          "name": "stdout",
          "output_type": "stream",
          "text": [
            "1\n",
            "95.0\n",
            "93.0\n",
            "2\n",
            "2\n",
            "93.0\n",
            "1\n",
            "96.0\n",
            "1\n",
            "93.0\n"
          ]
        }
      ],
      "source": [
        "class Ninja:     \n",
        "     def __init__(self):           \n",
        "         self.rank = 0  \n",
        "         self.stamina = 0.0  \n",
        "   \n",
        "naruto = Ninja()  \n",
        "yellow_flash = Ninja()  \n",
        "naruto.rank = 1  \n",
        "naruto.stamina = 95.0  \n",
        "print(naruto.rank)  \n",
        "print(naruto.stamina)  \n",
        "yellow_flash.stamina = naruto.stamina - 2  \n",
        "print(yellow_flash.stamina)  \n",
        "yellow_flash.rank += (naruto.rank + 1)  \n",
        "print(yellow_flash.rank)  \n",
        "minato = yellow_flash  \n",
        "print(minato.rank)  \n",
        "print(minato.stamina)  \n",
        "naruto.rank = minato.rank - 1  \n",
        "naruto.stamina = yellow_flash.stamina + 3  \n",
        "print(naruto.rank)  \n",
        "print(naruto.stamina)  \n",
        "naruto.rank = -(-naruto.rank)  \n",
        "yellow_flash.stamina = -(-minato.stamina)  \n",
        "print(naruto.rank)  \n",
        "print(minato.stamina)"
      ]
    },
    {
      "cell_type": "code",
      "execution_count": null,
      "metadata": {},
      "outputs": [],
      "source": []
    }
  ],
  "metadata": {
    "colab": {
      "collapsed_sections": [],
      "name": "lab2.ipynb",
      "provenance": []
    },
    "kernelspec": {
      "display_name": "Python 3.10.4 64-bit",
      "language": "python",
      "name": "python3"
    },
    "language_info": {
      "codemirror_mode": {
        "name": "ipython",
        "version": 3
      },
      "file_extension": ".py",
      "mimetype": "text/x-python",
      "name": "python",
      "nbconvert_exporter": "python",
      "pygments_lexer": "ipython3",
      "version": "3.10.4"
    },
    "vscode": {
      "interpreter": {
        "hash": "8c3d4d9970fc5c09c50d9318a9c7fbf4d0159e4b28833276f5678ee22bded273"
      }
    }
  },
  "nbformat": 4,
  "nbformat_minor": 0
}
